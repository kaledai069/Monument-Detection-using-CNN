{
 "cells": [
  {
   "cell_type": "code",
   "execution_count": 1,
   "id": "10fa0506",
   "metadata": {},
   "outputs": [],
   "source": [
    "import tensorflow as tf\n",
    "import os\n",
    "from tqdm import tqdm"
   ]
  },
  {
   "cell_type": "code",
   "execution_count": 2,
   "id": "4515ffc6",
   "metadata": {},
   "outputs": [],
   "source": [
    "def resize_image(input_path, output_path, size):\n",
    "    image = tf.io.read_file(input_path)\n",
    "    image = tf.image.decode_image(image, channels=3)\n",
    "    image = tf.image.resize(image, size,method='bilinear',antialias=True)\n",
    "    image = tf.image.encode_jpeg(image.numpy())\n",
    "    tf.io.write_file(output_path, image)"
   ]
  },
  {
   "cell_type": "code",
   "execution_count": 3,
   "id": "4403da88",
   "metadata": {},
   "outputs": [],
   "source": [
    "def batch_resize(input_dir, output_dir, size):\n",
    "    input_paths = [os.path.join(input_dir, f) for f in os.listdir(input_dir)]\n",
    "    output_paths = [os.path.join(output_dir, f) for f in os.listdir(input_dir)]\n",
    "\n",
    "    with tf.device('/GPU:0'):\n",
    "        for input_path, output_path in zip(input_paths, output_paths):\n",
    "            resize_image(input_path, output_path, size)"
   ]
  },
  {
   "cell_type": "code",
   "execution_count": 4,
   "id": "4fe57d65",
   "metadata": {},
   "outputs": [],
   "source": [
    "source_path = r\"F:\\Minor Data Collection\\Background Image\\Original size background images\"\n",
    "\n",
    "dest_path = r\"F:\\Minor Data Collection\\Background Image\\Resized background images 512 x 512\"\n",
    "\n",
    "if not os.path.exists(dest_path):\n",
    "    os.mkdir(dest_path)\n",
    "    "
   ]
  },
  {
   "cell_type": "code",
   "execution_count": 5,
   "id": "38489a97",
   "metadata": {},
   "outputs": [
    {
     "name": "stderr",
     "output_type": "stream",
     "text": [
      "100%|██████████████████████████████████████████████████████████████████████████████| 1133/1133 [03:27<00:00,  5.46it/s]\n"
     ]
    }
   ],
   "source": [
    "for i in tqdm(os.listdir(source_path)):\n",
    "    source_path_inner = os.path.join(source_path,i)\n",
    "    dest_path_inner = os.path.join(dest_path,i)\n",
    "    try:\n",
    "        resize_image(source_path_inner, dest_path_inner, (512, 512))\n",
    "    except:\n",
    "        pass\n",
    "    \n",
    "#     os.mkdir(dest_path_inner)\n",
    "#     batch_resize(source_path_inner,dest_path_inner,(300,300))"
   ]
  }
 ],
 "metadata": {
  "kernelspec": {
   "display_name": "Python 3 (ipykernel)",
   "language": "python",
   "name": "python3"
  },
  "language_info": {
   "codemirror_mode": {
    "name": "ipython",
    "version": 3
   },
   "file_extension": ".py",
   "mimetype": "text/x-python",
   "name": "python",
   "nbconvert_exporter": "python",
   "pygments_lexer": "ipython3",
   "version": "3.9.12"
  }
 },
 "nbformat": 4,
 "nbformat_minor": 5
}
