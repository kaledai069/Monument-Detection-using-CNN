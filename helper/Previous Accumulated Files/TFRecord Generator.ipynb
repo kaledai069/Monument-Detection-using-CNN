{
 "cells": [
  {
   "cell_type": "code",
   "execution_count": 1,
   "id": "d50f0cfc",
   "metadata": {},
   "outputs": [],
   "source": [
    "import os\n",
    "import numpy as np\n",
    "import xml.etree.ElementTree as ET\n",
    "from collections import OrderedDict\n",
    "import matplotlib.pyplot as plt\n",
    "import pandas as pd\n",
    "import glob\n",
    "import io\n",
    "from collections import namedtuple\n",
    "from PIL import Image\n",
    "import tensorflow as tf\n",
    "import tensorflow_datasets as tfds\n",
    "from tqdm import tqdm"
   ]
  },
  {
   "cell_type": "markdown",
   "id": "c55279fb",
   "metadata": {},
   "source": [
    "### Set FilePath"
   ]
  },
  {
   "cell_type": "code",
   "execution_count": 6,
   "id": "9195fb5d",
   "metadata": {},
   "outputs": [],
   "source": [
    "LABEL_PATH = r\"C:\\Users\\parzi\\OneDrive - Tribhuvan University\\Desktop\\Minor Project\\Monument Detection with CNN\\Monument Object Detection\\helper\\Report\\final.csv\"\n",
    "ignore_list = ['kotilingeshvara', 'til mahadev narayan temple', 'king statue']\n",
    "mistake_list = ['degutale temple', 'kritipur tower']\n",
    "correct_list = ['degu tale temple_KDS', 'kirtipur tower', 'degu tale']"
   ]
  },
  {
   "cell_type": "code",
   "execution_count": 7,
   "id": "bcec7b7d",
   "metadata": {},
   "outputs": [],
   "source": [
    "POSSIBLE_LABELS = dict()"
   ]
  },
  {
   "cell_type": "code",
   "execution_count": 10,
   "id": "178f3732",
   "metadata": {},
   "outputs": [],
   "source": [
    "def csv_to_label_map_dict(path):\n",
    "    df = pd.read_csv(path)\n",
    "    class_list = list(df['class'])\n",
    "    final_class_list = list()\n",
    "    for class_name in class_list:\n",
    "        if class_name not in ignore_list and class_name not in correct_list:\n",
    "            if class_name in mistake_list:\n",
    "                if class_name == 'degutale temple' or class_name == 'degu tale':\n",
    "                    class_name = correct_list[0]\n",
    "                elif class_name == 'kritipur tower':\n",
    "                    class_name = correct_list[1]\n",
    "            final_class_list.append(class_name)\n",
    "    class_index = 1\n",
    "    res_dict = {}\n",
    "    for class_label in final_class_list:\n",
    "        res_dict[class_label] = class_index\n",
    "        class_index += 1\n",
    "    return res_dict"
   ]
  },
  {
   "cell_type": "code",
   "execution_count": 11,
   "id": "411f6cb7",
   "metadata": {},
   "outputs": [],
   "source": [
    "POSSIBLE_LABELS = csv_to_label_map_dict(LABEL_PATH)"
   ]
  },
  {
   "cell_type": "code",
   "execution_count": 12,
   "id": "12d63f6d",
   "metadata": {},
   "outputs": [],
   "source": [
    "POSSIBLE_LABELS['bg'] = 0"
   ]
  },
  {
   "cell_type": "code",
   "execution_count": 15,
   "id": "ff71d99f",
   "metadata": {},
   "outputs": [
    {
     "data": {
      "text/plain": [
       "{'badrinath temple': 1,\n",
       " 'basantapur tower': 2,\n",
       " 'bhagavati temple': 3,\n",
       " 'bhairavnath temple': 4,\n",
       " 'bhaktapur tower': 5,\n",
       " 'bhimeleshvara': 6,\n",
       " 'bhimsen temple': 7,\n",
       " 'bhupatindra malla column': 8,\n",
       " 'bhuvana lakshmeshvara': 9,\n",
       " 'chasin dega': 10,\n",
       " 'chayasilin mandap': 11,\n",
       " 'dattatreya temple': 12,\n",
       " 'degu tale temple_KDS': 13,\n",
       " 'fasidega temple': 14,\n",
       " 'gaddi durbar': 15,\n",
       " 'garud': 16,\n",
       " 'golden gate': 17,\n",
       " 'gopinath krishna temple': 18,\n",
       " 'hanuman idol': 19,\n",
       " 'indrapura': 20,\n",
       " 'jagannatha temple': 21,\n",
       " 'kala-bhairava': 22,\n",
       " 'kasthamandap': 23,\n",
       " 'kavindrapura sattal': 24,\n",
       " 'kedamatha tirtha': 25,\n",
       " 'kirtipur tower': 26,\n",
       " 'kumari ghar': 27,\n",
       " 'lalitpur tower': 28,\n",
       " 'mahadev temple': 29,\n",
       " 'narayan temple': 30,\n",
       " 'national gallery': 31,\n",
       " 'nyatapola temple': 32,\n",
       " 'palace of the 55 windows': 33,\n",
       " 'panchamukhi hanuman': 34,\n",
       " 'pratap malla column': 35,\n",
       " 'shiva temple': 36,\n",
       " 'shveta bhairava': 37,\n",
       " 'siddhi lakshmi temple': 38,\n",
       " 'simha sattal': 39,\n",
       " 'taleju bell_BDS': 40,\n",
       " 'taleju bell_KDS': 41,\n",
       " 'taleju temple': 42,\n",
       " 'trailokya mohan': 43,\n",
       " 'vastala temple': 44,\n",
       " 'vishnu temple': 45,\n",
       " 'bhimsen temple_PDS': 46,\n",
       " 'char narayan temple': 47,\n",
       " 'chyasim deval': 48,\n",
       " 'garud statue': 49,\n",
       " 'harishankar temple': 50,\n",
       " 'krishna mandir': 51,\n",
       " 'mani ganesh temple': 52,\n",
       " 'mani mandap': 53,\n",
       " 'royal palace_PDS': 54,\n",
       " 'taleju bell_PDS': 55,\n",
       " 'taleju temple north': 56,\n",
       " 'taleju temple south': 57,\n",
       " 'vishwanath temple': 58,\n",
       " 'yognarendra malla statue': 59,\n",
       " 'bg': 0}"
      ]
     },
     "execution_count": 15,
     "metadata": {},
     "output_type": "execute_result"
    }
   ],
   "source": [
    "POSSIBLE_LABELS"
   ]
  },
  {
   "cell_type": "code",
   "execution_count": 16,
   "id": "ac35789b",
   "metadata": {},
   "outputs": [],
   "source": [
    "def check_class_validity(class_name):\n",
    "    if class_name == 'degutale temple' or class_name == 'degu tale':\n",
    "        return 'degu tale temple_KDS'\n",
    "    elif class_name == 'kritipur tower':\n",
    "        return 'kirtipur tower'\n",
    "    elif class_name not in list(POSSIBLE_LABELS.keys()):\n",
    "        return None\n",
    "    else:\n",
    "        return class_name"
   ]
  },
  {
   "cell_type": "code",
   "execution_count": 17,
   "id": "a708602a",
   "metadata": {},
   "outputs": [],
   "source": [
    "class_list = []\n",
    "def xml_to_csv(path):\n",
    "    xml_list = []\n",
    "    for xml_file in glob.glob(path + '/*.xml'):\n",
    "        tree = ET.parse(xml_file)\n",
    "        root = tree.getroot()\n",
    "        all_objects = root.findall('object')\n",
    "        changed_filename = xml_file.split('\\\\')[-1].split('.')[0] + '.JPG'\n",
    "        # Handling xml parser for random background images\n",
    "        if len(all_objects) != 0:\n",
    "            for member in all_objects:\n",
    "                class_label = check_class_validity(member[0].text)\n",
    "                if class_label is not None:\n",
    "                    value = (changed_filename,\n",
    "                             int(root.find('size')[0].text),\n",
    "                             int(root.find('size')[1].text),\n",
    "                             class_label,\n",
    "                             int(member[4][0].text),\n",
    "                             int(member[4][1].text),\n",
    "                             int(member[4][2].text),\n",
    "                             int(member[4][3].text)\n",
    "                             )\n",
    "                    if class_label not in class_list:\n",
    "                        class_list.append(class_label)\n",
    "                    xml_list.append(value)\n",
    "        else:\n",
    "            # Setting background class to 'bg', and four bbox coordinates all to neg 1.\n",
    "            value = (changed_filename,\n",
    "                     int(root.find('size')[0].text),\n",
    "                     int(root.find('size')[1].text),\n",
    "                     'bg',\n",
    "                      -1,\n",
    "                      -1,\n",
    "                      -1,\n",
    "                      -1)\n",
    "            xml_list.append(value)\n",
    "    column_name = ['filename', 'width', 'height',\n",
    "                   'class', 'xmin', 'ymin', 'xmax', 'ymax']\n",
    "    xml_df = pd.DataFrame(xml_list, columns=column_name)\n",
    "    return xml_df\n"
   ]
  },
  {
   "cell_type": "code",
   "execution_count": 18,
   "id": "7b6a5aed",
   "metadata": {},
   "outputs": [],
   "source": [
    "# xml_to_csv(r\"F:\\Minor Data Collection\\Final Image Data\\Monument Original\\Merged_Original_Augmented\\test\\Annotations\")"
   ]
  },
  {
   "cell_type": "code",
   "execution_count": 19,
   "id": "96dde7cb",
   "metadata": {},
   "outputs": [],
   "source": [
    "def split(df, group):\n",
    "    data = namedtuple('data', ['filename', 'object'])\n",
    "    gb = df.groupby(group)\n",
    "    return [data(filename, gb.get_group(x)) for filename, x in zip(gb.groups.keys(), gb.groups)]"
   ]
  },
  {
   "cell_type": "code",
   "execution_count": 20,
   "id": "46d01cb4",
   "metadata": {},
   "outputs": [],
   "source": [
    "def int64_feature(value):\n",
    "    return tf.train.Feature(int64_list=tf.train.Int64List(value=[value]))\n",
    "def bytes_feature(value):\n",
    "    return tf.train.Feature(bytes_list=tf.train.BytesList(value=[value]))\n",
    "def float_list_feature(value):\n",
    "    return tf.train.Feature(float_list=tf.train.FloatList(value=value))\n",
    "def bytes_list_feature(value):\n",
    "    return tf.train.Feature(bytes_list=tf.train.BytesList(value=value))\n",
    "def int64_list_feature(value):\n",
    "    return tf.train.Feature(int64_list=tf.train.Int64List(value=value))"
   ]
  },
  {
   "cell_type": "code",
   "execution_count": 21,
   "id": "6f7b7553",
   "metadata": {},
   "outputs": [],
   "source": [
    "def class_text_to_int(row_label):\n",
    "    return POSSIBLE_LABELS[row_label]"
   ]
  },
  {
   "cell_type": "code",
   "execution_count": 22,
   "id": "6bfbdcdc",
   "metadata": {},
   "outputs": [],
   "source": [
    "def create_tf_example(group, path):\n",
    "    with tf.io.gfile.GFile(os.path.join(path, '{}'.format(group.filename)), 'rb') as fid:\n",
    "        encoded_jpg = fid.read()\n",
    "    encoded_jpg_io = io.BytesIO(encoded_jpg)\n",
    "    image = Image.open(encoded_jpg_io)\n",
    "    width, height = image.size\n",
    "\n",
    "    filename = group.filename.encode('utf8')\n",
    "    image_format = b'jpg'\n",
    "    xmins = []\n",
    "    xmaxs = []\n",
    "    ymins = []\n",
    "    ymaxs = []\n",
    "    classes_text = []\n",
    "    classes = []\n",
    "    \n",
    "    for index, row in group.object.iterrows():\n",
    "        if int(row['xmin']) > -1:\n",
    "            xmins.append(row['xmin'] / width)\n",
    "            xmaxs.append(row['xmax'] / width)\n",
    "            ymins.append(row['ymin'] / height)\n",
    "            ymaxs.append(row['ymax'] / height)\n",
    "            classes_text.append(row['class'].encode('utf8'))\n",
    "            classes.append(class_text_to_int(row['class']))\n",
    "            \n",
    "        else:\n",
    "            xmins.append(0)\n",
    "            xmaxs.append(0)\n",
    "            ymins.append(0)\n",
    "            ymaxs.append(0)\n",
    "            classes_text.append(row['class'].encode('utf8'))\n",
    "            classes.append(0)\n",
    "    tf_example = tf.train.Example(features=tf.train.Features(feature={\n",
    "        'image/height': int64_feature(height),\n",
    "        'image/width': int64_feature(width),\n",
    "        'image/filename': bytes_feature(filename),\n",
    "        'image/encoded': bytes_feature(encoded_jpg),\n",
    "        'image/object/bbox/xmin': float_list_feature(xmins),\n",
    "        'image/object/bbox/xmax': float_list_feature(xmaxs),\n",
    "        'image/object/bbox/ymin': float_list_feature(ymins),\n",
    "        'image/object/bbox/ymax': float_list_feature(ymaxs),\n",
    "        'image/object/class/text': bytes_list_feature(classes_text),\n",
    "        'image/object/class/label': int64_list_feature(classes),\n",
    "    }))\n",
    "    return tf_example"
   ]
  },
  {
   "cell_type": "code",
   "execution_count": 23,
   "id": "a04b5247",
   "metadata": {},
   "outputs": [],
   "source": [
    "def TFRecord_Creator(image_dir, annotations_dir, output_file, split_type = \"BDG\"):\n",
    "    writer = tf.io.TFRecordWriter(output_file)\n",
    "    path = os.path.join(image_dir)\n",
    "    examples = xml_to_csv(annotations_dir)\n",
    "    #grouped by the filename so that multiple monument detection boxes are grouped in a single 'GROUP'\n",
    "    grouped = split(examples, 'filename') \n",
    "    for group in tqdm(grouped):\n",
    "        tf_example = create_tf_example(group, path)\n",
    "        writer.write(tf_example.SerializeToString())\n",
    "    writer.close()\n",
    "    print('Successfully created the TFRecord file for ', split_type)"
   ]
  },
  {
   "cell_type": "code",
   "execution_count": 24,
   "id": "a24c6bed",
   "metadata": {},
   "outputs": [],
   "source": [
    "BASE_DIR = r\"F:\\Minor Data Collection\\Final Image Data\\Monument Original 512\\Augmented 512 v2 (PDS included)\\All Splitted\"\n",
    "annotations_path = 'Annotations'\n",
    "jpg_images_path = 'JPEGImages'\n",
    "train_dir = os.path.join(BASE_DIR, 'train')\n",
    "validation_dir = os.path.join(BASE_DIR, 'validation')\n",
    "test_dir = os.path.join(BASE_DIR, 'test')"
   ]
  },
  {
   "cell_type": "code",
   "execution_count": 25,
   "id": "662be88f",
   "metadata": {},
   "outputs": [
    {
     "name": "stderr",
     "output_type": "stream",
     "text": [
      "100%|████████████████████████████████████████████████████████████████████████████| 19609/19609 [03:34<00:00, 91.45it/s]\n"
     ]
    },
    {
     "name": "stdout",
     "output_type": "stream",
     "text": [
      "Successfully created the TFRecord file for  BDG\n"
     ]
    },
    {
     "name": "stderr",
     "output_type": "stream",
     "text": [
      "100%|██████████████████████████████████████████████████████████████████████████████| 2551/2551 [00:32<00:00, 78.59it/s]\n"
     ]
    },
    {
     "name": "stdout",
     "output_type": "stream",
     "text": [
      "Successfully created the TFRecord file for  BDG\n"
     ]
    },
    {
     "name": "stderr",
     "output_type": "stream",
     "text": [
      "100%|██████████████████████████████████████████████████████████████████████████████| 2357/2357 [00:26<00:00, 87.60it/s]\n"
     ]
    },
    {
     "name": "stdout",
     "output_type": "stream",
     "text": [
      "Successfully created the TFRecord file for  BDG\n"
     ]
    }
   ],
   "source": [
    "TFRecord_Creator(os.path.join(train_dir, jpg_images_path), os.path.join(train_dir, annotations_path), os.path.join(BASE_DIR, 'train_all_512_v5.tfrecord'))\n",
    "\n",
    "TFRecord_Creator(os.path.join(validation_dir, jpg_images_path), os.path.join(validation_dir, annotations_path), os.path.join(BASE_DIR, 'validation_all_512_v5.tfrecord'))\n",
    "\n",
    "TFRecord_Creator(os.path.join(test_dir, jpg_images_path), os.path.join(test_dir, annotations_path), os.path.join(BASE_DIR, 'test_all_512_v5.tfrecord'))"
   ]
  },
  {
   "cell_type": "code",
   "execution_count": 74,
   "id": "ecc1e16e",
   "metadata": {},
   "outputs": [],
   "source": [
    "# image_dir = './Dataset/test/JPEGImages'\n",
    "# annotations_dir = './Dataset/test/Annotations'\n",
    "# output_file = './monument-test.tfrecord'\n",
    "# main(image_dir, annotations_dir, output_file)"
   ]
  },
  {
   "cell_type": "code",
   "execution_count": null,
   "id": "9d8a0845",
   "metadata": {},
   "outputs": [],
   "source": [
    "# def xml_to_csv(path):\n",
    "#     xml_list = []\n",
    "#     for xml_file in glob.glob(path + '/*.xml'):\n",
    "#         tree = ET.parse(xml_file)\n",
    "#         root = tree.getroot()\n",
    "#         for member in root.findall('object'):\n",
    "#             class_label = check_class_validity(member[0].text)\n",
    "#             if class_label is not None:\n",
    "#                 value = (root.find('filename').text,\n",
    "#                          int(root.find('size')[0].text),\n",
    "#                          int(root.find('size')[1].text),\n",
    "#                          class_label,\n",
    "#                          int(member[4][0].text),\n",
    "#                          int(member[4][1].text),\n",
    "#                          int(member[4][2].text),\n",
    "#                          int(member[4][3].text)\n",
    "#                          )\n",
    "#                 xml_list.append(value)\n",
    "#     column_name = ['filename', 'width', 'height',\n",
    "#                    'class', 'xmin', 'ymin', 'xmax', 'ymax']\n",
    "#     xml_df = pd.DataFrame(xml_list, columns=column_name)\n",
    "#     return xml_df"
   ]
  }
 ],
 "metadata": {
  "kernelspec": {
   "display_name": "Python 3 (ipykernel)",
   "language": "python",
   "name": "python3"
  },
  "language_info": {
   "codemirror_mode": {
    "name": "ipython",
    "version": 3
   },
   "file_extension": ".py",
   "mimetype": "text/x-python",
   "name": "python",
   "nbconvert_exporter": "python",
   "pygments_lexer": "ipython3",
   "version": "3.9.12"
  },
  "vscode": {
   "interpreter": {
    "hash": "db7936f1c54eb8e542c27316bd257405a081f4ffea519a3ef0ab4d021852bca9"
   }
  }
 },
 "nbformat": 4,
 "nbformat_minor": 5
}
