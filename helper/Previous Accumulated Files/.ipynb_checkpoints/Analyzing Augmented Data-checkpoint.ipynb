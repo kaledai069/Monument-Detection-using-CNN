{
 "cells": [
  {
   "cell_type": "markdown",
   "id": "b2933c6e",
   "metadata": {},
   "source": [
    "# Analyzing augmented data"
   ]
  },
  {
   "cell_type": "code",
   "execution_count": 15,
   "id": "60b602f0",
   "metadata": {},
   "outputs": [],
   "source": [
    "import os\n",
    "import numpy as np\n",
    "import xml.etree.ElementTree as ET\n",
    "from collections import OrderedDict\n",
    "import matplotlib.pyplot as plt\n",
    "import pandas as pd\n",
    "import glob\n",
    "import io\n",
    "from collections import namedtuple\n",
    "from PIL import Image\n",
    "import tensorflow as tf\n",
    "import tensorflow_datasets as tfds"
   ]
  },
  {
   "cell_type": "code",
   "execution_count": 16,
   "id": "d3afd8c1",
   "metadata": {},
   "outputs": [],
   "source": [
    "BASE_DIR = r\"F:\\Minor Data Collection\\Final Image Data\\Monument Original\\Merged_Original_Augmented\""
   ]
  },
  {
   "cell_type": "code",
   "execution_count": 17,
   "id": "84179992",
   "metadata": {},
   "outputs": [],
   "source": [
    "image_feature_description = {\n",
    "    'image/height': tf.io.FixedLenFeature(shape = (), dtype = np.int64),\n",
    "    'image/width' : tf.io.FixedLenFeature(shape = (), dtype = np.int64),\n",
    "    'image/filename' : tf.io.FixedLenFeature(shape = (), dtype = tf.string),\n",
    "    'image/encoded' : tf.io.FixedLenFeature(shape = (), dtype = tf.string),\n",
    "    'image/object/bbox/xmin': tf.io.FixedLenSequenceFeature(shape = (), dtype = np.float32, allow_missing = True),\n",
    "    'image/object/bbox/xmax': tf.io.FixedLenSequenceFeature(shape = (), dtype = np.float32, allow_missing = True),\n",
    "    'image/object/bbox/ymin': tf.io.FixedLenSequenceFeature(shape = (), dtype = np.float32, allow_missing = True),\n",
    "    'image/object/bbox/ymax': tf.io.FixedLenSequenceFeature(shape = (), dtype = np.float32, allow_missing = True),\n",
    "    'image/object/class/text':tf.io.FixedLenSequenceFeature(shape = (), dtype = tf.string, allow_missing = True),\n",
    "    'image/object/class/label':tf.io.FixedLenSequenceFeature(shape = (), dtype = np.int64, allow_missing = True)\n",
    "}\n",
    "\n",
    "def _parse_data(unparsed_example):\n",
    "    return tf.io.parse_single_example(unparsed_example, image_feature_description)\n",
    "\n",
    "def _bytestring(parsed_example):\n",
    "    byte_string = parsed_example['image/encoded']\n",
    "    image = tf.io.decode_image(byte_string)\n",
    "    image = tf.reshape(image, [parsed_example['image/height'], parsed_example['image/width'], 3])\n",
    "    parsed_example['image/encoded'] = image\n",
    "    bbox = tf.stack([parsed_example['image/object/bbox/ymin'], parsed_example['image/object/bbox/xmin'], parsed_example['image/object/bbox/ymax'], parsed_example['image/object/bbox/xmax']], axis = -1)\n",
    "    output_dict = {'image': image,\n",
    "                  'objects': {\n",
    "                      'bbox': bbox,\n",
    "                      'label':parsed_example['image/object/class/label'],\n",
    "                      'label_txt': parsed_example['image/object/class/text']\n",
    "                  }}\n",
    "\n",
    "    return output_dict"
   ]
  },
  {
   "cell_type": "code",
   "execution_count": 18,
   "id": "ebc3488d",
   "metadata": {},
   "outputs": [],
   "source": [
    "def tfrecord_decoder(tfrecord_path):\n",
    "    dataset = tf.data.TFRecordDataset(tfrecord_path)\n",
    "    dataset = dataset.map(_parse_data)\n",
    "    dataset = dataset.map(_bytestring)\n",
    "    return dataset"
   ]
  },
  {
   "cell_type": "code",
   "execution_count": 19,
   "id": "8b078880",
   "metadata": {},
   "outputs": [],
   "source": [
    "tfrecord_path = os.path.join(\"F:\\Minor Data Collection\\Final Image Data\\Monument Original\\TFRecord\", 'test.tfrecord')\n",
    "\n",
    "test_dataset = tfrecord_decoder(os.path.join(BASE_DIR, \"test_aug.tfrecord\"))"
   ]
  },
  {
   "cell_type": "code",
   "execution_count": 25,
   "id": "7b865ce1",
   "metadata": {},
   "outputs": [],
   "source": [
    "LABEL_PATH = r\"F:\\Minor Project\\Monument Object Detection\\helper\\Report\\all_there_is.csv\"\n",
    "ignore_list = ['kotilingeshvara', 'til mahadev narayan temple', 'king statue']\n",
    "mistake_list = ['degutale temple', 'kritipur tower', 'degu tale']\n",
    "correct_list = ['degu tale temple_KDS', 'kirtipur tower']\n",
    "\n",
    "POSSIBLE_LABELS = dict()\n",
    "\n",
    "def csv_to_label_map_dict(path):\n",
    "    df = pd.read_csv(path)\n",
    "    class_list = list(df['class'])\n",
    "    final_class_list = list()\n",
    "    for class_name in class_list:\n",
    "        if class_name not in ignore_list and class_name not in correct_list:\n",
    "            if class_name in mistake_list:\n",
    "                if class_name == 'degutale temple' or class_name == 'degu tale':\n",
    "                    class_name = correct_list[0]\n",
    "                elif class_name == 'kritipur tower':\n",
    "                    class_name = correct_list[1]\n",
    "            final_class_list.append(class_name)\n",
    "    class_index = 1\n",
    "    res_dict = {}\n",
    "    for class_label in final_class_list:\n",
    "        res_dict[class_label] = class_index\n",
    "        class_index += 1\n",
    "    return res_dict\n",
    "labels = csv_to_label_map_dict(LABEL_PATH)\n",
    "monument_classes = list(labels.keys())"
   ]
  },
  {
   "cell_type": "code",
   "execution_count": 28,
   "id": "f4ea1cea",
   "metadata": {},
   "outputs": [
    {
     "name": "stdout",
     "output_type": "stream",
     "text": [
      "['bg', 'badrinath temple', 'basantapur tower', 'bhagavati temple', 'bhairavnath temple', 'bhaktapur tower', 'bhimeleshvara', 'bhimsen temple', 'bhupatindra malla column', 'bhuvana lakshmeshvara', 'chasin dega', 'chayasilin mandap', 'dattatreya temple', 'degu tale temple_KDS', 'fasidega temple', 'gaddi durbar', 'garud', 'golden gate', 'gopinath krishna temple', 'hanuman idol', 'indrapura', 'jagannatha temple', 'kala-bhairava', 'kasthamandap', 'kavindrapura sattal', 'kedamatha tirtha', 'kirtipur tower', 'kumari ghar', 'lalitpur tower', 'mahadev temple', 'narayan temple', 'national gallery', 'nyatapola temple', 'palace of the 55 windows', 'panchamukhi hanuman', 'pratap malla column', 'shiva temple', 'shveta bhairava', 'siddhi lakshmi temple', 'simha sattal', 'taleju bell_BDS', 'taleju bell_KDS', 'taleju temple', 'trailokya mohan', 'vastala temple', 'vishnu temple']\n"
     ]
    }
   ],
   "source": [
    "# monument_classes = ['bg'] + monument_classes\n",
    "print(monument_classes)"
   ]
  },
  {
   "cell_type": "code",
   "execution_count": 1,
   "id": "5545e7dd",
   "metadata": {
    "scrolled": false
   },
   "outputs": [
    {
     "ename": "NameError",
     "evalue": "name 'test_dataset' is not defined",
     "output_type": "error",
     "traceback": [
      "\u001b[1;31m---------------------------------------------------------------------------\u001b[0m",
      "\u001b[1;31mNameError\u001b[0m                                 Traceback (most recent call last)",
      "Input \u001b[1;32mIn [1]\u001b[0m, in \u001b[0;36m<cell line: 4>\u001b[1;34m()\u001b[0m\n\u001b[0;32m      1\u001b[0m labels_list \u001b[38;5;241m=\u001b[39m []\n\u001b[0;32m      2\u001b[0m count \u001b[38;5;241m=\u001b[39m \u001b[38;5;241m0\u001b[39m\n\u001b[1;32m----> 4\u001b[0m \u001b[38;5;28;01mfor\u001b[39;00m ele \u001b[38;5;129;01min\u001b[39;00m \u001b[43mtest_dataset\u001b[49m:\n\u001b[0;32m      5\u001b[0m     all_label \u001b[38;5;241m=\u001b[39m \u001b[38;5;124m'\u001b[39m\u001b[38;5;124m'\u001b[39m\n\u001b[0;32m      6\u001b[0m     numpy_array \u001b[38;5;241m=\u001b[39m np\u001b[38;5;241m.\u001b[39muint8(ele[\u001b[38;5;124m'\u001b[39m\u001b[38;5;124mimage\u001b[39m\u001b[38;5;124m'\u001b[39m]\u001b[38;5;241m.\u001b[39mnumpy())\n",
      "\u001b[1;31mNameError\u001b[0m: name 'test_dataset' is not defined"
     ]
    }
   ],
   "source": [
    "labels_list = []\n",
    "count = 0\n",
    "\n",
    "for ele in test_dataset:\n",
    "    all_label = ''\n",
    "    numpy_array = np.uint8(ele['image'].numpy())\n",
    "    img = Image.fromarray(numpy_array)\n",
    "    \n",
    "    for label in ele['objects']['label'].numpy().tolist():\n",
    "        if label not in labels_list:\n",
    "            labels_list.append(label)\n",
    "            \n",
    "        all_label += monument_classes[label] + f\" {label}\"\n",
    "    plt.figure(figsize = (8, 8))\n",
    "    plt.title(all_label)\n",
    "    plt.imshow(img)\n",
    "    plt.show()\n",
    "    count += 1\n",
    "    if count > 200:\n",
    "        break"
   ]
  },
  {
   "cell_type": "code",
   "execution_count": null,
   "id": "bde47551",
   "metadata": {},
   "outputs": [],
   "source": []
  },
  {
   "cell_type": "code",
   "execution_count": null,
   "id": "26e58907",
   "metadata": {},
   "outputs": [],
   "source": [
    "print(len(labels_list))\n"
   ]
  },
  {
   "cell_type": "code",
   "execution_count": 37,
   "id": "c98cb825",
   "metadata": {},
   "outputs": [
    {
     "name": "stdout",
     "output_type": "stream",
     "text": [
      "46\n"
     ]
    }
   ],
   "source": [
    "correct_list = ['bg', 'badrinath temple', 'basantapur tower', 'bhagavati temple', 'bhairavnath temple', 'bhaktapur tower', 'bhimeleshvara', 'bhimsen temple', 'bhupatindra malla column', 'bhuvana lakshmeshvara', 'chasin dega', 'chayasilin mandap', 'dattatreya temple', 'degu tale temple_KDS', 'fasidega temple', 'gaddi durbar', 'garud', 'golden gate', 'gopinath krishna temple', 'hanuman idol', 'indrapura', 'jagannatha temple', 'kala-bhairava', 'kasthamandap', 'kavindrapura sattal', 'kedamatha tirtha', 'kirtipur tower', 'kumari ghar', 'lalitpur tower', 'mahadev temple', 'narayan temple', 'national gallery', 'nyatapola temple', 'palace of the 55 windows', 'panchamukhi hanuman', 'pratap malla column', 'shiva temple', 'shveta bhairava', 'siddhi lakshmi temple', 'simha sattal', 'taleju bell_BDS', 'taleju bell_KDS', 'taleju temple', 'trailokya mohan', 'vastala temple', 'vishnu temple']\n",
    "\n",
    "trained_list = ['bg', 'badrinath temple', 'basantapur tower', 'bhagavati temple', 'bhairavnath temple', 'bhaktapur tower', 'bhimeleshvara', 'bhimsen temple', 'bhupatindra malla column', 'bhuvana lakshmeshvara', 'chasin dega', 'chayasilin mandap', 'dattatreya temple', 'degu tale temple_KDS', 'fasidega temple', 'gaddi durbar', 'garud', 'golden gate', 'gopinath krishna temple', 'hanuman idol', 'indrapura', 'jagannatha temple', 'kala-bhairava', 'kasthamandap', 'kavindrapura sattal', 'kedamatha tirtha', 'kirtipur tower', 'kumari ghar', 'lalitpur tower', 'mahadev temple', 'narayan temple', 'national gallery', 'nyatapola temple', 'palace of the 55 windows', 'panchamukhi hanuman', 'pratap malla column', 'shiva temple', 'shveta bhairava', 'siddhi lakshmi temple', 'simha sattal', 'taleju bell_BDS', 'taleju bell_KDS', 'taleju temple', 'trailokya mohan', 'vastala temple', 'vishnu temple']\n",
    "\n",
    "print(len(correct_list))\n",
    "\n",
    "\n",
    "df_dict = {'correct list': correct_list, 'training list': trained_list}\n",
    "df = pd.DataFrame(df_dict)\n",
    "\n",
    "\n",
    "# verify list:\n",
    "for c, t in zip(correct_list, trained_list):\n",
    "    if c != t:\n",
    "        print(\"Faulty\")"
   ]
  },
  {
   "cell_type": "code",
   "execution_count": null,
   "id": "569637bf",
   "metadata": {},
   "outputs": [],
   "source": [
    "df"
   ]
  },
  {
   "cell_type": "code",
   "execution_count": null,
   "id": "6af96797",
   "metadata": {},
   "outputs": [],
   "source": []
  }
 ],
 "metadata": {
  "kernelspec": {
   "display_name": "Python 3 (ipykernel)",
   "language": "python",
   "name": "python3"
  },
  "language_info": {
   "codemirror_mode": {
    "name": "ipython",
    "version": 3
   },
   "file_extension": ".py",
   "mimetype": "text/x-python",
   "name": "python",
   "nbconvert_exporter": "python",
   "pygments_lexer": "ipython3",
   "version": "3.9.12"
  }
 },
 "nbformat": 4,
 "nbformat_minor": 5
}
