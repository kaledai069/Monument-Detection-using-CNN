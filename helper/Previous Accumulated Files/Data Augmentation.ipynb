{
 "cells": [
  {
   "cell_type": "code",
   "execution_count": 1,
   "id": "fe728221",
   "metadata": {},
   "outputs": [],
   "source": [
    "import glob\n",
    "import xml.etree.ElementTree as ET\n",
    "import pandas as pd\n",
    "import sys\n",
    "import matplotlib.pyplot as plt\n",
    "import tensorflow as tf\n",
    "import tensorflow_addons as tfa\n",
    "import os\n",
    "import cv2\n",
    "import math\n",
    "import random\n",
    "import numpy as np\n",
    "from tqdm import tqdm\n",
    "from pprint import pprint\n",
    "from augmentations import *\n",
    "random.seed(10)"
   ]
  },
  {
   "cell_type": "markdown",
   "id": "e421c476",
   "metadata": {},
   "source": [
    "## Initial Investigation"
   ]
  },
  {
   "cell_type": "code",
   "execution_count": 2,
   "id": "3960b3a7",
   "metadata": {},
   "outputs": [],
   "source": [
    "ORI_BASE_DIR = r\"F:\\Minor Data Collection\\Final Image Data\\Patan Durbar Square\\PDS Data Annotate 512\"\n",
    "AUG_BASE_DIR = r\"F:\\Minor Data Collection\\Final Image Data\\Patan Durbar Square\\PDS Data Augmented 512\"\n",
    "annotation_path = 'Annotations'\n",
    "jpg_image_path = 'JPEGImages'\n",
    "ignore_list = ['kotilingeshvara', 'til mahadev narayan temple', 'king statue']\n",
    "mistake_list = ['degutale temple', 'kritipur tower', 'degu tale']"
   ]
  },
  {
   "cell_type": "code",
   "execution_count": 3,
   "id": "de5b6cd2",
   "metadata": {},
   "outputs": [],
   "source": [
    "def xml_to_df(path):\n",
    "    xml_list = []\n",
    "    class_name = ''\n",
    "    for xml_file in glob.glob(path + '/*.xml'):\n",
    "        tree = ET.parse(xml_file)\n",
    "        root = tree.getroot()\n",
    "        for member in root.findall('object'):\n",
    "            class_name = member[0].text\n",
    "            if class_name not in ignore_list:\n",
    "                if class_name in mistake_list:\n",
    "                    if class_name == 'degutale temple' or class_name == 'degu tale':\n",
    "                        class_name = 'degu tale temple_KDS'\n",
    "                    elif class_name == 'kritipur tower':\n",
    "                        class_name = 'kirtipur tower'\n",
    "                value = (root.find('filename').text,\n",
    "                         int(root.find('size')[0].text),\n",
    "                         int(root.find('size')[1].text),\n",
    "                         class_name,\n",
    "                         int(member[4][0].text),\n",
    "                         int(member[4][1].text),\n",
    "                         int(member[4][2].text),\n",
    "                         int(member[4][3].text)\n",
    "                         )\n",
    "                xml_list.append(value)\n",
    "    column_name = ['class count', 'width', 'height',\n",
    "                   'class', 'xmin', 'ymin', 'xmax', 'ymax']\n",
    "    return pd.DataFrame(xml_list, columns=column_name)"
   ]
  },
  {
   "cell_type": "code",
   "execution_count": 4,
   "id": "46d53a34",
   "metadata": {},
   "outputs": [],
   "source": [
    "# Analyzes XMLs in an annotation file and gives a bar chart \n",
    "def xml_to_bar_chart(path, count_thres = 100, print_plot = None):\n",
    "    df = xml_to_df(path)\n",
    "    class_dict = dict(df.groupby(['class']).count()['class count'].items())\n",
    "    x_label = list()\n",
    "    y_label = list()\n",
    "    for key, value in class_dict.items():\n",
    "        if value < count_thres and key not in ignore_list:\n",
    "            x_label.append(key)\n",
    "            y_label.append(value)\n",
    "            \n",
    "    plt.figure(figsize = (12, 7), dpi = 90)\n",
    "    plt.style.use('seaborn-whitegrid')\n",
    "    plt.bar(x_label, y_label, width = 0.75)\n",
    "    plt.xticks(rotation = 90)\n",
    "    plt.yticks(np.arange(0, count_thres, 50))\n",
    "    font = {'color': 'black', 'size': 16, 'weight': 'bold'}\n",
    "    plt.xlabel('Monument Classes', fontdict = font)\n",
    "    plt.ylabel('Classes Counts', fontdict = font)\n",
    "#     plt.axhline(y = 600, color = 'b', linestyle = '--')\n",
    "#     plt.axhline(y = 900, color = 'r', linestyle = '--')\n",
    "    plt.title('Augmented Dataset', fontdict=font)\n",
    "#     if print_plot is not None:\n",
    "#         save_loc = os.path.join('Jpgs', print_plot + '.jpg')\n",
    "#         plt.savefig(save_loc, dpi = 240, bbox_inches = 'tight', pad_inches = 0.2)\n",
    "    plt.show()"
   ]
  },
  {
   "cell_type": "code",
   "execution_count": 5,
   "id": "2e662230",
   "metadata": {},
   "outputs": [],
   "source": [
    "# xml_to_bar_chart(os.path.join(ORI_BASE_DIR, annotation_path), 800)"
   ]
  },
  {
   "cell_type": "code",
   "execution_count": 6,
   "id": "1ddd1e84",
   "metadata": {},
   "outputs": [],
   "source": [
    "# Analyzes XMLs in an annotation file and gives 'class name list' & 'class [key:value] pair dictioary'\n",
    "def lower_class_dict(path, count_thres = 100):\n",
    "    df = xml_to_df(path)\n",
    "    _dict = dict(df.groupby(['class']).count()['class count'].items())\n",
    "    class_list = list()\n",
    "    class_dict = dict()\n",
    "    for key, value in _dict.items():\n",
    "        if value < count_thres:\n",
    "            class_list.append(key)\n",
    "            class_dict[key] = value\n",
    "    return class_list, class_dict "
   ]
  },
  {
   "cell_type": "code",
   "execution_count": 7,
   "id": "cded31e7",
   "metadata": {},
   "outputs": [],
   "source": [
    "def validate_class_name(class_name):\n",
    "    if class_name in mistake_list:\n",
    "        if class_name == 'degutale temple' or class_name == 'degu tale':\n",
    "            class_name = 'degu tale temple_KDS'\n",
    "        elif class_name == 'kritipur tower':\n",
    "            class_name = 'kirtipur tower'\n",
    "    return class_name\n",
    "                    "
   ]
  },
  {
   "cell_type": "code",
   "execution_count": 8,
   "id": "2a619ec0",
   "metadata": {},
   "outputs": [],
   "source": [
    "def find_contained_filenames(mn_class, invalid_classes = None):\n",
    "    output_list =list()\n",
    "    \n",
    "    for xml_file in glob.glob(os.path.join(ORI_BASE_DIR, annotation_path) + '/*.xml'):\n",
    "        tree = ET.parse(xml_file)\n",
    "        root = tree.getroot()\n",
    "        \n",
    "        add_to_list = True\n",
    "        \n",
    "        if invalid_classes is not None:\n",
    "            for member in root.findall('object'):\n",
    "                class_name = member[0].text\n",
    "                class_name = validate_class_name(class_name)\n",
    "                if class_name in invalid_classes:\n",
    "                    add_to_list = False\n",
    "                    \n",
    "        if add_to_list:\n",
    "            for member in root.findall('object'):\n",
    "                class_name = member[0].text\n",
    "                class_name = validate_class_name(class_name)\n",
    "                if class_name == mn_class:\n",
    "                    output_list.append(root.find('filename').text.split('.')[0])\n",
    "                    \n",
    "    return output_list"
   ]
  },
  {
   "cell_type": "code",
   "execution_count": 9,
   "id": "feceb082",
   "metadata": {},
   "outputs": [],
   "source": [
    "def analyze_visualize(mn_class, not_include_list = None, scale = 6):\n",
    "    # first get files related to that monument class\n",
    "    examine_filenames = find_contained_filenames(mn_class, invalid_classes = not_include_list)\n",
    "    \n",
    "    # analyze the augmented annotations file for initial dictionary \n",
    "    df = xml_to_df(os.path.join(AUG_BASE_DIR, annotation_path))\n",
    "    original_dict = dict(df.groupby(['class']).count()['class count'].items())\n",
    "    \n",
    "    output_dict = {}\n",
    "    ori_dict_copy = original_dict.copy()\n",
    "    for filename in examine_filenames:\n",
    "        input_path = os.path.join(ORI_BASE_DIR, annotation_path, filename + '.xml')\n",
    "        tree = ET.parse(input_path)\n",
    "        root = tree.getroot()\n",
    "        for member in root.findall('object'):\n",
    "            class_name = member[0].text\n",
    "            class_name = validate_class_name(class_name)\n",
    "            if class_name not in output_dict:\n",
    "                output_dict[class_name] = 1\n",
    "            else:\n",
    "                output_dict[class_name] += 1\n",
    "    # increase the initial dictionary by synthetic value raise\n",
    "    for key, value in output_dict.items():\n",
    "        if key not in ignore_list:\n",
    "            ori_dict_copy[key] += value * scale\n",
    "\n",
    "    # then visualize how the augmentation will change the current augmentation\n",
    "    plt.figure(figsize = (16, 8), dpi = 120)\n",
    "    x_axis = np.arange(len(original_dict.keys()))\n",
    "    plt.bar(x_axis, list(ori_dict_copy.values()), 0.5, label = 'augmented')\n",
    "    plt.bar(x_axis, list(original_dict.values()), 0.5, label = 'original')\n",
    "    plt.axhline(y = 500, color = 'b', linestyle = '--')\n",
    "    plt.xticks(x_axis, list(original_dict.keys()), rotation = 90)\n",
    "    plt.legend(loc = 'best')\n",
    "    plt.show()"
   ]
  },
  {
   "cell_type": "code",
   "execution_count": 60,
   "id": "87ff91c5",
   "metadata": {},
   "outputs": [
    {
     "data": {
      "image/png": "[encoded data removed]",
      "text/plain": [
       "<Figure size 1920x960 with 1 Axes>"
      ]
     },
     "metadata": {
      "needs_background": "light"
     },
     "output_type": "display_data"
    }
   ],
   "source": [
    "not_include_list = []\n",
    "analyze_visualize('garud statue',  not_include_list, scale = 0)"
   ]
  },
  {
   "cell_type": "markdown",
   "id": "079c47e7",
   "metadata": {},
   "source": [
    "## Change monument name before doing anything"
   ]
  },
  {
   "cell_type": "code",
   "execution_count": 59,
   "id": "44eedda6",
   "metadata": {},
   "outputs": [
    {
     "name": "stderr",
     "output_type": "stream",
     "text": [
      " 13%|██████████▉                                                                      | 50/372 [00:03<00:20, 15.85it/s]\n"
     ]
    }
   ],
   "source": [
    "mn_name = 'garud statue'\n",
    "mn_short = 'garud_statue'\n",
    "all_filenames = find_contained_filenames(mn_name, not_include_list)\n",
    "\n",
    "count = 0\n",
    "t_augs_types = 7\n",
    "no = None\n",
    "outer_count = 0\n",
    "for filename in tqdm(all_filenames):\n",
    "    t_index = count % t_augs_types\n",
    "    if t_index == 0:\n",
    "        random_rotation(ORI_BASE_DIR, AUG_BASE_DIR, filename, mn_short, extra = no)\n",
    "    elif t_index == 1:\n",
    "        random_brightness_and_contrast(ORI_BASE_DIR, AUG_BASE_DIR, filename, mn_short, repeat_no = no)\n",
    "    elif t_index == 2:\n",
    "        saturation(ORI_BASE_DIR, AUG_BASE_DIR, filename, mn_short)\n",
    "    elif t_index == 3:\n",
    "        gaussian_blur(ORI_BASE_DIR, AUG_BASE_DIR, filename, mn_short, repeat_no = no)\n",
    "    elif t_index == 4:\n",
    "        gaussian_noise(ORI_BASE_DIR, AUG_BASE_DIR, filename, mn_short)\n",
    "    elif t_index == 5:\n",
    "        saturation(ORI_BASE_DIR, AUG_BASE_DIR, filename, mn_short, True)\n",
    "    elif t_index == 6: \n",
    "        random_translation(ORI_BASE_DIR, AUG_BASE_DIR, filename, mn_short)\n",
    "    count += 1\n",
    "    outer_count += 1\n",
    "    if outer_count > 50:\n",
    "        break\n"
   ]
  },
  {
   "cell_type": "markdown",
   "id": "84c545a9",
   "metadata": {},
   "source": [
    "## Data Augmentation"
   ]
  },
  {
   "cell_type": "code",
   "execution_count": 67,
   "id": "3c6a5fda",
   "metadata": {},
   "outputs": [],
   "source": [
    "# ORI_ANNOTATION_PATH = os.path.join(ORI_BASE_DIR, annotation_path)\n",
    "# for monument_class, augmentation_list in analyze_annotations_file(ORI_ANNOTATION_PATH).items():\n",
    "#     for filename in tqdm(augmentation_list):\n",
    "#         random_hue_and_saturation(filename, monument_class)\n",
    "#         random_brightness_and_contrast(filename, monument_class)\n",
    "#         random_rotation(filename, monument_class)\n",
    "#         multiple_orient(filename, monument_class)"
   ]
  },
  {
   "cell_type": "code",
   "execution_count": 114,
   "id": "237e854e",
   "metadata": {},
   "outputs": [
    {
     "name": "stderr",
     "output_type": "stream",
     "text": [
      " 43%|███████████████████████████████████▎                                              | 28/65 [00:03<00:04,  9.22it/s]"
     ]
    },
    {
     "name": "stdout",
     "output_type": "stream",
     "text": [
      "Im here\n"
     ]
    },
    {
     "name": "stderr",
     "output_type": "stream",
     "text": [
      " 52%|██████████████████████████████████████████▉                                       | 34/65 [00:03<00:03,  9.71it/s]"
     ]
    },
    {
     "name": "stdout",
     "output_type": "stream",
     "text": [
      "Im here\n",
      "Im here\n",
      "Im here\n"
     ]
    },
    {
     "name": "stderr",
     "output_type": "stream",
     "text": [
      " 63%|███████████████████████████████████████████████████▋                              | 41/65 [00:04<00:02,  9.83it/s]"
     ]
    },
    {
     "name": "stdout",
     "output_type": "stream",
     "text": [
      "Im here\n"
     ]
    },
    {
     "name": "stderr",
     "output_type": "stream",
     "text": [
      "100%|██████████████████████████████████████████████████████████████████████████████████| 65/65 [00:07<00:00,  9.18it/s]\n"
     ]
    }
   ],
   "source": [
    "ORI_ANNOTATION_PATH = os.path.join(ORI_BASE_DIR, annotation_path)\n",
    "for monument_class, augmentation_list in analyze_annotations_file(os.path.join(ORI_BASE_DIR, 'Merged_Original_Augmented', annotation_path), 610, False).items():\n",
    "    aug_len = len(augmentation_list)\n",
    "    count = 0\n",
    "    for filename in tqdm(augmentation_list):\n",
    "#         random_hue_and_saturation(filename, monument_class, 3)\n",
    "#         random_brightness_and_contrast(filename, monument_class, 3)\n",
    "#         random_rotation(filename, monument_class, 3)\n",
    "#         random_rotation(filename, monument_class)\n",
    "#         multiple_orient(filename, monument_class)\n",
    "        random_translation(filename, monument_class, 0)\n",
    "        random_translation(filename, monument_class, 2)\n",
    "#         random_translation(filename, monument_class, 3)\n",
    "#         random_translation(filename, monument_class, 7)\n",
    "        count += 2\n",
    "        if count > 250:\n",
    "            break\n"
   ]
  },
  {
   "cell_type": "code",
   "execution_count": 107,
   "id": "1208596c",
   "metadata": {},
   "outputs": [],
   "source": [
    "# analyze_annotations_file(os.path.join(ORI_BASE_DIR, 'Merged', annotation_path), 400, True)"
   ]
  },
  {
   "cell_type": "code",
   "execution_count": null,
   "id": "535e66cd",
   "metadata": {},
   "outputs": [],
   "source": []
  },
  {
   "cell_type": "code",
   "execution_count": null,
   "id": "82877065",
   "metadata": {},
   "outputs": [],
   "source": []
  },
  {
   "cell_type": "code",
   "execution_count": null,
   "id": "60d81b3e",
   "metadata": {},
   "outputs": [],
   "source": [
    "def analyze_annotations_file(path, count_thres = 70, plot = False):\n",
    "    ls, dt = lower_class_dict(path, count_thres)\n",
    "    overall_dict = {}\n",
    "    for monument_class in ls:\n",
    "        xml_list = []\n",
    "        filenames_list = []\n",
    "        class_name = ''\n",
    "        for xml_file in glob.glob(os.path.join(ORI_BASE_DIR, annotation_path) + '/*.xml'):\n",
    "            contained_file = False\n",
    "            tree = ET.parse(xml_file)\n",
    "            root = tree.getroot()\n",
    "            for member in root.findall('object'):\n",
    "                class_name = member[0].text\n",
    "                if class_name == monument_class:\n",
    "                    contained_file = True\n",
    "            if contained_file:\n",
    "                filenames_list.append(xml_file.split('.')[0].split('\\\\')[-1])\n",
    "                for member in root.findall('object'):\n",
    "                    class_name = member[0].text\n",
    "                    if class_name not in ignore_list:\n",
    "                        if class_name in mistake_list:\n",
    "                            if class_name == 'degutale temple' or class_name == 'degu tale':\n",
    "                                class_name = 'degu tale temple_KDS'\n",
    "                            elif class_name == 'kritipur tower':\n",
    "                                class_name = 'kirtipur tower'\n",
    "                        value = (root.find('filename').text,\n",
    "                                 int(root.find('size')[0].text),\n",
    "                                 int(root.find('size')[1].text),\n",
    "                                 class_name,\n",
    "                                 int(member[4][0].text),\n",
    "                                 int(member[4][1].text),\n",
    "                                 int(member[4][2].text),\n",
    "                                 int(member[4][3].text)\n",
    "                                 )\n",
    "                        xml_list.append(value)\n",
    "        column_name = ['class count', 'width', 'height',\n",
    "                   'class', 'xmin', 'ymin', 'xmax', 'ymax']\n",
    "        df = pd.DataFrame(xml_list, columns=column_name)\n",
    "        class_dict = dict(df.groupby(['class']).count()['class count'].items())\n",
    "        x_label = list()\n",
    "        y_label = list()\n",
    "        for key, value in class_dict.items():\n",
    "            x_label.append(key)\n",
    "            y_label.append(value)\n",
    "        if plot:\n",
    "            plt.figure(figsize = (6, 3), dpi = 90)\n",
    "            plt.bar(x_label, y_label, width = 0.9)\n",
    "            plt.xticks(rotation = 90)\n",
    "            plt.title(monument_class)\n",
    "            plt.show()\n",
    "        overall_dict[monument_class] = filenames_list\n",
    "    return overall_dict"
   ]
  }
 ],
 "metadata": {
  "kernelspec": {
   "display_name": "Python 3 (ipykernel)",
   "language": "python",
   "name": "python3"
  },
  "language_info": {
   "codemirror_mode": {
    "name": "ipython",
    "version": 3
   },
   "file_extension": ".py",
   "mimetype": "text/x-python",
   "name": "python",
   "nbconvert_exporter": "python",
   "pygments_lexer": "ipython3",
   "version": "3.9.12"
  }
 },
 "nbformat": 4,
 "nbformat_minor": 5
}
