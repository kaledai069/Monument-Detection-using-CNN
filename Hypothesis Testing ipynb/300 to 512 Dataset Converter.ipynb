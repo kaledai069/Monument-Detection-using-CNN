{
 "cells": [
  {
   "cell_type": "code",
   "execution_count": 19,
   "id": "0846c34b",
   "metadata": {},
   "outputs": [],
   "source": [
    "import os \n",
    "import cv2\n",
    "from tqdm import tqdm\n",
    "import xml.etree.ElementTree as ET\n",
    "import shutil"
   ]
  },
  {
   "cell_type": "markdown",
   "id": "eb0f6988",
   "metadata": {},
   "source": [
    "Copy and resize original PDS jpg files"
   ]
  },
  {
   "cell_type": "code",
   "execution_count": 15,
   "id": "81c8e4f9",
   "metadata": {},
   "outputs": [],
   "source": [
    "ORI_IMG_DIR = r\"F:\\Minor Data Collection\\Image Data Collection\\Patan Durbar Square\\PDS Original Renamed Collected Images\"\n",
    "DEST_IMG_DIR = r\"F:\\Minor Data Collection\\Final Image Data\\Patan Durbar Square\\PDS Data Annotate 512\\JPEGImages\"\n",
    "COPY_IMG_DIR = r\"F:\\Minor Data Collection\\Final Image Data\\Patan Durbar Square\\PDS Data Annotate 300\\JPEGImages\"\n",
    "\n",
    "ANNO_INPUT_DIR = r\"F:\\Minor Data Collection\\Final Image Data\\Patan Durbar Square\\PDS Data Annotate 300\\Annotations\"\n",
    "ANNO_OUTPUT_DIR = r\"F:\\Minor Data Collection\\Final Image Data\\Patan Durbar Square\\PDS Data Annotate 512\\Annotations\""
   ]
  },
  {
   "cell_type": "code",
   "execution_count": 22,
   "id": "9299b542",
   "metadata": {},
   "outputs": [
    {
     "name": "stderr",
     "output_type": "stream",
     "text": [
      "100%|██████████████████████████████████████████████████████████████████████████████| 2977/2977 [10:30<00:00,  4.72it/s]\n"
     ]
    }
   ],
   "source": [
    "temp_list = list()\n",
    "output_dim = (512, 512)\n",
    "\n",
    "outer_loop_count = 0\n",
    "for img_file in tqdm(os.listdir(COPY_IMG_DIR)):\n",
    "    if os.path.exists(os.path.join(ORI_IMG_DIR, img_file)):\n",
    "        image_file_name = os.path.join(ORI_IMG_DIR, img_file)\n",
    "        img = cv2.imread(image_file_name)\n",
    "        img_height, img_width, _ = img.shape\n",
    "        \n",
    "        resized_img = cv2.resize(img, output_dim, fx = 0.5, fy = 0.5,  interpolation = cv2.INTER_AREA)\n",
    "        cv2.imwrite(os.path.join(DEST_IMG_DIR, img_file), resized_img)\n",
    "        \n",
    "        xml_input_file = os.path.join(ANNO_INPUT_DIR, img_file.split('.')[0] + '.xml')\n",
    "        xml_file = ET.parse(xml_input_file)\n",
    "        root = xml_file.getroot()\n",
    "        \n",
    "        root.find('size').find('width').text = str(output_dim[0])\n",
    "        root.find('size').find('height').text = str(output_dim[0])\n",
    "        \n",
    "        all_objects = root.findall('object')\n",
    "        \n",
    "        for member in all_objects:\n",
    "            xmin= int(member[4][0].text)\n",
    "            ymin= int(member[4][1].text)\n",
    "            xmax= int(member[4][2].text)\n",
    "            ymax= int(member[4][3].text)\n",
    "\n",
    "            member[4][0].text = str(int((float(xmin) / 300.0) * 512.0))\n",
    "            member[4][1].text = str(int((float(ymin) / 300.0) * 512.0))\n",
    "            member[4][2].text = str(int((float(xmax) / 300.0) * 512.0))\n",
    "            member[4][3].text = str(int((float(ymax) / 300.0) * 512.0))\n",
    "        \n",
    "        anno_output_path = os.path.join(ANNO_OUTPUT_DIR, img_file.split('.')[0] + '.xml')\n",
    "        xml_file.write(anno_output_path)\n",
    "    outer_loop_count += 1"
   ]
  },
  {
   "cell_type": "code",
   "execution_count": 10,
   "id": "d94205e3",
   "metadata": {},
   "outputs": [
    {
     "data": {
      "text/plain": [
       "2977"
      ]
     },
     "execution_count": 10,
     "metadata": {},
     "output_type": "execute_result"
    }
   ],
   "source": []
  },
  {
   "cell_type": "code",
   "execution_count": null,
   "id": "f46fc2c5",
   "metadata": {},
   "outputs": [],
   "source": []
  }
 ],
 "metadata": {
  "kernelspec": {
   "display_name": "Python 3 (ipykernel)",
   "language": "python",
   "name": "python3"
  },
  "language_info": {
   "codemirror_mode": {
    "name": "ipython",
    "version": 3
   },
   "file_extension": ".py",
   "mimetype": "text/x-python",
   "name": "python",
   "nbconvert_exporter": "python",
   "pygments_lexer": "ipython3",
   "version": "3.9.12"
  }
 },
 "nbformat": 4,
 "nbformat_minor": 5
}
