{
 "cells": [
  {
   "cell_type": "code",
   "execution_count": 1,
   "id": "b8ea8d30",
   "metadata": {},
   "outputs": [],
   "source": [
    "import os\n",
    "import random\n",
    "import shutil\n",
    "from tqdm import tqdm\n",
    "import glob\n",
    "import xml.etree.ElementTree as ET\n",
    "import pandas as pd\n",
    "import sys\n",
    "import matplotlib.pyplot as plt\n",
    "import tensorflow as tf\n",
    "import random\n",
    "import numpy as np"
   ]
  },
  {
   "cell_type": "code",
   "execution_count": 2,
   "id": "ce6b0a51",
   "metadata": {},
   "outputs": [],
   "source": [
    "BASE_DIR = r\"F:\\Minor Data Collection\\Final Image Data\\Monument Original 512\\Augmented 512 v1\"\n",
    "annotations_path = 'Annotations'\n",
    "jpeg_image_path = 'JPEGImages'"
   ]
  },
  {
   "cell_type": "code",
   "execution_count": 5,
   "id": "6059e0de",
   "metadata": {},
   "outputs": [
    {
     "name": "stdout",
     "output_type": "stream",
     "text": [
      "102\n"
     ]
    }
   ],
   "source": [
    "xml_list = []\n",
    "empty_file = list()\n",
    "class_name = ''\n",
    "count = 0\n",
    "for xml_file in glob.glob(os.path.join(BASE_DIR, annotations_path) + '/*.xml'):\n",
    "    tree = ET.parse(xml_file)\n",
    "    root = tree.getroot()\n",
    "    contained = False\n",
    "    \n",
    "    all_obs = root.findall('object')\n",
    "    if len(all_obs) == 0:\n",
    "        empty_file.append(xml_file)\n",
    "\n",
    "print(len(empty_file))\n"
   ]
  },
  {
   "cell_type": "code",
   "execution_count": 7,
   "id": "82e73bb8",
   "metadata": {},
   "outputs": [
    {
     "data": {
      "text/plain": [
       "'F:\\\\Minor Data Collection\\\\Final Image Data\\\\Monument Original 512\\\\Augmented 512 v1\\\\Annotations\\\\12240.xml'"
      ]
     },
     "execution_count": 7,
     "metadata": {},
     "output_type": "execute_result"
    }
   ],
   "source": [
    "empty_file[0]"
   ]
  },
  {
   "cell_type": "code",
   "execution_count": 11,
   "id": "c6596745",
   "metadata": {},
   "outputs": [],
   "source": [
    "OUTPUT_DIR = r\"F:\\Minor Data Collection\\Final Image Data\\Monument Original 512\\Augmented 512 v1\\background Image\""
   ]
  },
  {
   "cell_type": "code",
   "execution_count": 14,
   "id": "a06f3685",
   "metadata": {},
   "outputs": [
    {
     "name": "stderr",
     "output_type": "stream",
     "text": [
      "100%|████████████████████████████████████████████████████████████████████████████████| 102/102 [00:03<00:00, 33.53it/s]\n"
     ]
    }
   ],
   "source": [
    "for file in tqdm(empty_file):\n",
    "    xml_file_name = file.split('\\\\')[-1]\n",
    "    src_xml_file = os.path.join(BASE_DIR, annotations_path, xml_file_name)\n",
    "    dst_xml_file = os.path.join(OUTPUT_DIR, annotations_path, xml_file_name)\n",
    "    \n",
    "    src_img_file = os.path.join(BASE_DIR, jpeg_image_path, xml_file_name.replace('xml', 'jpg'))\n",
    "    dst_img_file = os.path.join(OUTPUT_DIR, jpeg_image_path, xml_file_name.replace('xml', 'jpg'))\n",
    "    \n",
    "    shutil.copy(src_xml_file, dst_xml_file)\n",
    "    shutil.copy(src_img_file, dst_img_file)\n",
    "    "
   ]
  },
  {
   "cell_type": "code",
   "execution_count": null,
   "id": "80d9c6e5",
   "metadata": {},
   "outputs": [],
   "source": []
  }
 ],
 "metadata": {
  "kernelspec": {
   "display_name": "Python 3 (ipykernel)",
   "language": "python",
   "name": "python3"
  },
  "language_info": {
   "codemirror_mode": {
    "name": "ipython",
    "version": 3
   },
   "file_extension": ".py",
   "mimetype": "text/x-python",
   "name": "python",
   "nbconvert_exporter": "python",
   "pygments_lexer": "ipython3",
   "version": "3.9.12"
  }
 },
 "nbformat": 4,
 "nbformat_minor": 5
}
