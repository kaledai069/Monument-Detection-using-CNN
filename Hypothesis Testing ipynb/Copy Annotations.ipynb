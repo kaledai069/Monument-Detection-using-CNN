{
 "cells": [
  {
   "cell_type": "code",
   "execution_count": 9,
   "id": "ff609076",
   "metadata": {},
   "outputs": [],
   "source": [
    "import os\n",
    "import shutil"
   ]
  },
  {
   "cell_type": "code",
   "execution_count": 10,
   "id": "7a51cba0",
   "metadata": {},
   "outputs": [],
   "source": [
    "INPUT_DIR = r\"F:\\Minor Data Collection\\Final Image Data\\Patan Durbar Square\\PDS Data Annotate 512\\Annotations\"\n",
    "OUTPUT_DIR = r\"F:\\Minor Data Collection\\Final Image Data\\Patan Durbar Square\\PDS Data Annotate 512\\Test Images\"\n",
    "JPEG_DIR = r\"F:\\Minor Data Collection\\Final Image Data\\Patan Durbar Square\\PDS Data Annotate 512\\Test Images\""
   ]
  },
  {
   "cell_type": "code",
   "execution_count": 11,
   "id": "e3133960",
   "metadata": {},
   "outputs": [],
   "source": [
    "for file in os.listdir(JPEG_DIR):\n",
    "    src_path = os.path.join(INPUT_DIR, file.split('.')[0] + '.xml')\n",
    "    dst_path = os.path.join(OUTPUT_DIR, file.split('.')[0] + '.xml')\n",
    "    shutil.copy(src_path, dst_path)"
   ]
  },
  {
   "cell_type": "code",
   "execution_count": null,
   "id": "ce24d1d5",
   "metadata": {},
   "outputs": [],
   "source": []
  }
 ],
 "metadata": {
  "kernelspec": {
   "display_name": "Python 3 (ipykernel)",
   "language": "python",
   "name": "python3"
  },
  "language_info": {
   "codemirror_mode": {
    "name": "ipython",
    "version": 3
   },
   "file_extension": ".py",
   "mimetype": "text/x-python",
   "name": "python",
   "nbconvert_exporter": "python",
   "pygments_lexer": "ipython3",
   "version": "3.9.12"
  }
 },
 "nbformat": 4,
 "nbformat_minor": 5
}
