{
 "cells": [
  {
   "cell_type": "code",
   "execution_count": 22,
   "id": "7f8769c1",
   "metadata": {},
   "outputs": [],
   "source": [
    "import pandas as pd\n",
    "import numpy as np\n",
    "import shutil\n",
    "import os"
   ]
  },
  {
   "cell_type": "code",
   "execution_count": 23,
   "id": "eecaad2e",
   "metadata": {},
   "outputs": [],
   "source": [
    "df = pd.read_csv('similarity_score.csv')"
   ]
  },
  {
   "cell_type": "code",
   "execution_count": 24,
   "id": "f9e901de",
   "metadata": {},
   "outputs": [],
   "source": [
    "extracted_df = df[df[\"Similarity Score\"] > -0.9]"
   ]
  },
  {
   "cell_type": "code",
   "execution_count": 25,
   "id": "ec2ea7b0",
   "metadata": {},
   "outputs": [],
   "source": [
    "BASE_BDS_DIR = r\"F:\\Minor Data Collection\\Resized Original Image\\BDS\"\n",
    "OUTPUT_DIR = r\"F:\\Minor Data Collection\\Resized Original Image\\Unfound Files\""
   ]
  },
  {
   "cell_type": "code",
   "execution_count": 26,
   "id": "637f0c60",
   "metadata": {},
   "outputs": [],
   "source": [
    "for row in extracted_df.iterrows():\n",
    "    file_name = row[1]['Resized Image Name']\n",
    "    src_path = os.path.join(BASE_BDS_DIR, file_name)\n",
    "    dst_path = os.path.join(OUTPUT_DIR, file_name)\n",
    "    shutil.copy(src_path, dst_path)"
   ]
  },
  {
   "cell_type": "code",
   "execution_count": null,
   "id": "3ef61a5f",
   "metadata": {},
   "outputs": [],
   "source": []
  }
 ],
 "metadata": {
  "kernelspec": {
   "display_name": "Python 3 (ipykernel)",
   "language": "python",
   "name": "python3"
  },
  "language_info": {
   "codemirror_mode": {
    "name": "ipython",
    "version": 3
   },
   "file_extension": ".py",
   "mimetype": "text/x-python",
   "name": "python",
   "nbconvert_exporter": "python",
   "pygments_lexer": "ipython3",
   "version": "3.9.12"
  }
 },
 "nbformat": 4,
 "nbformat_minor": 5
}
