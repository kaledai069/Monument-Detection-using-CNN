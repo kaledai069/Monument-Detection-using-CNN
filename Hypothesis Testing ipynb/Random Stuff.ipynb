{
 "cells": [
  {
   "cell_type": "code",
   "execution_count": 7,
   "id": "56abedba",
   "metadata": {},
   "outputs": [],
   "source": [
    "import os\n",
    "import shutil\n",
    "from tqdm import tqdm"
   ]
  },
  {
   "cell_type": "code",
   "execution_count": 8,
   "id": "39cc745e",
   "metadata": {},
   "outputs": [],
   "source": [
    "ANNO_DIR = r\"F:\\Minor Data Collection\\Final Image Data\\Patan Durbar Square\\Patan Durbar Sqaure\\Santosh\\Annotations\"\n",
    "ORI_IMG_DIR = r\"F:\\Minor Data Collection\\Final Image Data\\Patan Durbar Square\\Patan Durbar Sqaure\\Santosh\\JPEGImages\"\n",
    "FOUND_DIR = r\"F:\\Minor Data Collection\\Final Image Data\\Patan Durbar Square\\Patan Durbar Sqaure\\Santosh\\FoundJPEGImages\""
   ]
  },
  {
   "cell_type": "code",
   "execution_count": 9,
   "id": "a04403fa",
   "metadata": {},
   "outputs": [
    {
     "name": "stderr",
     "output_type": "stream",
     "text": [
      "100%|███████████████████████████████████████████████████████████████████████████████| 677/677 [00:00<00:00, 994.21it/s]\n"
     ]
    }
   ],
   "source": [
    "for file in tqdm(os.listdir(ANNO_DIR)):\n",
    "    if os.path.exists(os.path.join(ORI_IMG_DIR, file.split('.')[0] + '.jpg')):\n",
    "        src_path = os.path.join(ORI_IMG_DIR, file.split('.')[0] + '.jpg')\n",
    "        dest_path = os.path.join(FOUND_DIR, file.split('.')[0] + '.jpg')\n",
    "        shutil.copy(src_path, dest_path)\n",
    "        "
   ]
  },
  {
   "cell_type": "code",
   "execution_count": null,
   "id": "11a41fbc",
   "metadata": {},
   "outputs": [],
   "source": []
  },
  {
   "cell_type": "code",
   "execution_count": null,
   "id": "54076806",
   "metadata": {},
   "outputs": [],
   "source": []
  },
  {
   "cell_type": "markdown",
   "id": "8e389025",
   "metadata": {},
   "source": [
    "## Handling Ujjwal's Annotations"
   ]
  },
  {
   "cell_type": "code",
   "execution_count": 26,
   "id": "f336b76f",
   "metadata": {},
   "outputs": [],
   "source": [
    "ANNO = r\"F:\\Minor Data Collection\\Final Image Data\\Patan Durbar Square\\Labeled\\PDS Data Annotate\\Annotations\"\n",
    "IMG = r\"F:\\Minor Data Collection\\Final Image Data\\Patan Durbar Square\\Labeled\\Anno from Ujjwal\\JPEGImages\""
   ]
  },
  {
   "cell_type": "code",
   "execution_count": 27,
   "id": "de041237",
   "metadata": {},
   "outputs": [
    {
     "name": "stdout",
     "output_type": "stream",
     "text": [
      "FOUND\n"
     ]
    }
   ],
   "source": [
    "for file in os.listdir(ANNO):\n",
    "    if file == 'desktop.ini':\n",
    "        print('FOUND')"
   ]
  },
  {
   "cell_type": "markdown",
   "id": "18ee2bed",
   "metadata": {},
   "source": [
    "## Somebody messed up with 'char nayaran temple'"
   ]
  },
  {
   "cell_type": "code",
   "execution_count": 37,
   "id": "8a4e952b",
   "metadata": {},
   "outputs": [],
   "source": [
    "import xml.etree.ElementTree as ET\n",
    "import os\n",
    "import glob\n",
    "from tqdm import tqdm"
   ]
  },
  {
   "cell_type": "code",
   "execution_count": 38,
   "id": "e69caba1",
   "metadata": {},
   "outputs": [],
   "source": [
    "ANNO_PATH = r\"F:\\Minor Data Collection\\Final Image Data\\Patan Durbar Square\\Labeled\\PDS Data Annotate\\Annotations\""
   ]
  },
  {
   "cell_type": "code",
   "execution_count": 39,
   "id": "0997867f",
   "metadata": {},
   "outputs": [
    {
     "name": "stderr",
     "output_type": "stream",
     "text": [
      "100%|████████████████████████████████████████████████████████████████████████████| 2977/2977 [00:01<00:00, 2290.61it/s]\n"
     ]
    }
   ],
   "source": [
    "for xml_file in tqdm(glob.glob(ANNO_PATH + '/*.xml')):\n",
    "    tree = ET.parse(xml_file)\n",
    "    root = tree.getroot()\n",
    "    for member in root.findall('object'):\n",
    "        class_name = member[0].text\n",
    "        if class_name == 'yogendra malla statue':\n",
    "            member[0].text = 'yognarendra malla statue'\n",
    "    tree.write(xml_file)"
   ]
  },
  {
   "cell_type": "code",
   "execution_count": null,
   "id": "7e4182b4",
   "metadata": {},
   "outputs": [],
   "source": []
  }
 ],
 "metadata": {
  "kernelspec": {
   "display_name": "Python 3 (ipykernel)",
   "language": "python",
   "name": "python3"
  },
  "language_info": {
   "codemirror_mode": {
    "name": "ipython",
    "version": 3
   },
   "file_extension": ".py",
   "mimetype": "text/x-python",
   "name": "python",
   "nbconvert_exporter": "python",
   "pygments_lexer": "ipython3",
   "version": "3.9.12"
  }
 },
 "nbformat": 4,
 "nbformat_minor": 5
}
