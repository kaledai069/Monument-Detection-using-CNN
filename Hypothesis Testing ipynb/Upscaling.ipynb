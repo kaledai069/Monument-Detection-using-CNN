{
 "cells": [
  {
   "cell_type": "markdown",
   "id": "f82f10c7",
   "metadata": {},
   "source": [
    "### Upscaling Alamy Images"
   ]
  },
  {
   "cell_type": "code",
   "execution_count": 8,
   "id": "a2394942",
   "metadata": {},
   "outputs": [],
   "source": [
    "import cv2\n",
    "height = width = 640\n",
    "dim = (width, height)\n",
    "\n",
    "img = cv2.imread(\"13000.jpg\")\n",
    "resized_img = cv2.resize(img, dim, cv2.INTER_CUBIC)\n",
    "cv2.imshow(\"Resized Image\", resized_img)\n",
    "cv2.waitKey(0)\n",
    "cv2.destroyAllWindows()"
   ]
  },
  {
   "cell_type": "code",
   "execution_count": 24,
   "id": "2af63783",
   "metadata": {},
   "outputs": [],
   "source": [
    "import os\n",
    "import shutil\n",
    "from tqdm import tqdm\n",
    "import xml.etree.ElementTree as ET"
   ]
  },
  {
   "cell_type": "code",
   "execution_count": 16,
   "id": "5949742b",
   "metadata": {},
   "outputs": [],
   "source": [
    "ANNO_ORI_DIR = r\"F:\\Minor Data Collection\\Final Image Data\\Monument Original\\Original Image Dataset\\Annotations\"\n",
    "CURR_IMG_DIR = r\"F:\\Minor Data Collection\\Resized Original Image\\Alamy\\JPEGImages\"\n",
    "OUTPUT_ANNO_DIR = r\"F:\\Minor Data Collection\\Resized Original Image\\Alamy\\Annotations\""
   ]
  },
  {
   "cell_type": "code",
   "execution_count": 17,
   "id": "9df8d2d6",
   "metadata": {},
   "outputs": [
    {
     "name": "stderr",
     "output_type": "stream",
     "text": [
      "100%|██████████████████████████████████████████████████████████████████████████████| 1984/1984 [00:24<00:00, 81.25it/s]\n"
     ]
    }
   ],
   "source": [
    "for file_name in tqdm(os.listdir(CURR_IMG_DIR)):\n",
    "    img_file_name = file_name.split('.')[0]\n",
    "    anno_file_name = img_file_name + '.xml'\n",
    "    src_path = os.path.join(ANNO_ORI_DIR, anno_file_name)\n",
    "    dst_path = os.path.join(OUTPUT_ANNO_DIR, anno_file_name)\n",
    "    shutil.copy(src_path, dst_path)"
   ]
  },
  {
   "cell_type": "markdown",
   "id": "02975d9b",
   "metadata": {},
   "source": [
    "### Take an image from original Alamy data and Upscale to 512 and relocate it to new directory"
   ]
  },
  {
   "cell_type": "code",
   "execution_count": 19,
   "id": "b00d7ab6",
   "metadata": {},
   "outputs": [],
   "source": [
    "BASE_DIR = r\"F:\\Minor Data Collection\\Resized Original Image\\Alamy\"\n",
    "OUT_DIR = r\"F:\\Minor Data Collection\\Resized Original Image\\Alamy Upscaled\"\n",
    "ANNO_PATH = \"Annotations\"\n",
    "IMG_PATH = \"JPEGImages\""
   ]
  },
  {
   "cell_type": "code",
   "execution_count": 28,
   "id": "2c6f1651",
   "metadata": {},
   "outputs": [],
   "source": [
    "height = width = 512\n",
    "dim = (width, height)\n",
    "for img_file in os.listdir(os.path.join(BASE_DIR, IMG_PATH)):\n",
    "    img = cv2.imread(os.path.join(BASE_DIR, IMG_PATH, img_file))\n",
    "    resized_img = cv2.resize(img, dim, cv2.INTER_CUBIC)\n",
    "    cv2.imwrite(os.path.join(OUT_DIR, IMG_PATH, img_file), resized_img)\n",
    "    \n",
    "    xml_input_file = os.path.join(BASE_DIR, ANNO_PATH, img_file.split('.')[0] + '.xml')\n",
    "    xml_file = ET.parse(xml_input_file)\n",
    "    root = xml_file.getroot()\n",
    "    \n",
    "    root.find('size').find('width').text = str(width)\n",
    "    root.find('size').find('height').text = str(height)\n",
    "    all_objects = root.findall('object')\n",
    "    \n",
    "    for member in all_objects:\n",
    "        xmin= int(member[4][0].text)\n",
    "        ymin= int(member[4][1].text)\n",
    "        xmax= int(member[4][2].text)\n",
    "        ymax= int(member[4][3].text)\n",
    "        \n",
    "        member[4][0].text = str(int((float(xmin) * (512./300.))))\n",
    "        member[4][1].text = str(int((float(ymin) * (512./300.))))\n",
    "        member[4][2].text = str(int((float(xmax) * (512./300.))))\n",
    "        member[4][3].text = str(int((float(ymax) * (512./300.))))\n",
    "        \n",
    "    anno_output_path = os.path.join(OUT_DIR, ANNO_PATH, img_file.split('.')[0] + '.xml')\n",
    "    xml_file.write(anno_output_path)\n",
    "    \n",
    "    "
   ]
  },
  {
   "cell_type": "markdown",
   "id": "b0535050",
   "metadata": {},
   "source": [
    "### Taking above approach to resize and maintain the original images and its annotations"
   ]
  },
  {
   "cell_type": "code",
   "execution_count": 29,
   "id": "ecf5178a",
   "metadata": {},
   "outputs": [],
   "source": [
    "BASE_DIR = r\"F:\\Minor Data Collection\\All Images\\Original Images and Annotations\"\n",
    "OUT_DIR = r\"F:\\Minor Data Collection\\All Images\\Original Images and Annotations Resized\"\n",
    "ANNO_PATH = \"Annotations\"\n",
    "IMG_PATH = \"JPEGImages\""
   ]
  },
  {
   "cell_type": "code",
   "execution_count": 35,
   "id": "d0f7716d",
   "metadata": {},
   "outputs": [
    {
     "name": "stderr",
     "output_type": "stream",
     "text": [
      "100%|██████████████████████████████████████████████████████████████████████████████| 6185/6185 [20:00<00:00,  5.15it/s]\n"
     ]
    }
   ],
   "source": [
    "height = width = 512\n",
    "dim = (width, height)\n",
    "for img_file in tqdm(os.listdir(os.path.join(BASE_DIR, IMG_PATH))):\n",
    "    img = cv2.imread(os.path.join(BASE_DIR, IMG_PATH, img_file))\n",
    "    input_height, input_width, _ = img.shape\n",
    "    \n",
    "    resized_img = cv2.resize(img, dim, cv2.INTER_CUBIC)\n",
    "    cv2.imwrite(os.path.join(OUT_DIR, IMG_PATH, img_file), resized_img)\n",
    "    \n",
    "    xml_input_file = os.path.join(BASE_DIR, ANNO_PATH, img_file.split('.')[0] + '.xml')\n",
    "    xml_file = ET.parse(xml_input_file)\n",
    "    root = xml_file.getroot()\n",
    "    \n",
    "    root.find('size').find('width').text = str(width)\n",
    "    root.find('size').find('height').text = str(height)\n",
    "    all_objects = root.findall('object')\n",
    "    \n",
    "    for member in all_objects:\n",
    "        xmin= int(member[4][0].text)\n",
    "        ymin= int(member[4][1].text)\n",
    "        xmax= int(member[4][2].text)\n",
    "        ymax= int(member[4][3].text)\n",
    "        \n",
    "        member[4][0].text = str(int((float(xmin) / float(input_width)) * width))\n",
    "        member[4][1].text = str(int((float(ymin) / float(input_height)) * height))\n",
    "        member[4][2].text = str(int((float(xmax) / float(input_width)) * width))\n",
    "        member[4][3].text = str(int((float(ymax) / float(input_height)) * height))\n",
    "        \n",
    "    anno_output_path = os.path.join(OUT_DIR, ANNO_PATH, img_file.split('.')[0] + '.xml')\n",
    "    xml_file.write(anno_output_path)"
   ]
  },
  {
   "cell_type": "code",
   "execution_count": null,
   "id": "b64908bf",
   "metadata": {},
   "outputs": [],
   "source": []
  }
 ],
 "metadata": {
  "kernelspec": {
   "display_name": "Python 3 (ipykernel)",
   "language": "python",
   "name": "python3"
  },
  "language_info": {
   "codemirror_mode": {
    "name": "ipython",
    "version": 3
   },
   "file_extension": ".py",
   "mimetype": "text/x-python",
   "name": "python",
   "nbconvert_exporter": "python",
   "pygments_lexer": "ipython3",
   "version": "3.9.12"
  }
 },
 "nbformat": 4,
 "nbformat_minor": 5
}
