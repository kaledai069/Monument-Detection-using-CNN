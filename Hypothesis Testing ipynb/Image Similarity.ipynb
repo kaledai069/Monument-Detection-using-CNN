{
 "cells": [
  {
   "cell_type": "code",
   "execution_count": 14,
   "id": "a68d1d34",
   "metadata": {},
   "outputs": [],
   "source": [
    "import cv2\n",
    "import os\n",
    "from tqdm import tqdm\n",
    "import numpy as np"
   ]
  },
  {
   "cell_type": "code",
   "execution_count": 6,
   "id": "64b3aff2",
   "metadata": {},
   "outputs": [],
   "source": [
    "RESIZED_DIR = r\"F:\\Minor Data Collection\\Resized Original Image\\BDS\"\n",
    "ORI_DIR = r\"F:\\Minor Data Collection\\All Images\\Resized BDS\"\n",
    "w = 300\n",
    "h = 300"
   ]
  },
  {
   "cell_type": "code",
   "execution_count": 7,
   "id": "e206b0fa",
   "metadata": {},
   "outputs": [],
   "source": [
    "def error(img1, img2):\n",
    "    diff = cv2.subtract(img1, img2)\n",
    "    err = np.sum(diff**2)\n",
    "    mse = err / (float(w * h))\n",
    "    msre = np.sqrt(mse)\n",
    "    return msre"
   ]
  },
  {
   "cell_type": "code",
   "execution_count": null,
   "id": "e73f4c58",
   "metadata": {},
   "outputs": [
    {
     "name": "stdout",
     "output_type": "stream",
     "text": [
      "1502.JPG\n"
     ]
    },
    {
     "name": "stderr",
     "output_type": "stream",
     "text": [
      "100%|█████████████████████████████████████████████████████████████████████████████| 5000/5000 [00:17<00:00, 281.41it/s]\n"
     ]
    },
    {
     "name": "stdout",
     "output_type": "stream",
     "text": [
      "5141.jpg\n",
      "3.601365481776785\n",
      "1503.JPG\n"
     ]
    },
    {
     "name": "stderr",
     "output_type": "stream",
     "text": [
      "100%|█████████████████████████████████████████████████████████████████████████████| 5000/5000 [00:15<00:00, 313.04it/s]\n"
     ]
    },
    {
     "name": "stdout",
     "output_type": "stream",
     "text": [
      "5130.jpg\n",
      "3.3913714040193237\n",
      "1504.JPG\n"
     ]
    },
    {
     "name": "stderr",
     "output_type": "stream",
     "text": [
      "100%|█████████████████████████████████████████████████████████████████████████████| 5000/5000 [00:17<00:00, 278.90it/s]\n"
     ]
    },
    {
     "name": "stdout",
     "output_type": "stream",
     "text": [
      "3639.jpg\n",
      "3.384628651877649\n",
      "1505.JPG\n"
     ]
    },
    {
     "name": "stderr",
     "output_type": "stream",
     "text": [
      "100%|█████████████████████████████████████████████████████████████████████████████| 5000/5000 [00:15<00:00, 313.82it/s]\n"
     ]
    },
    {
     "name": "stdout",
     "output_type": "stream",
     "text": [
      "5130.jpg\n",
      "2.245924704387433\n",
      "1506.JPG\n"
     ]
    },
    {
     "name": "stderr",
     "output_type": "stream",
     "text": [
      "100%|█████████████████████████████████████████████████████████████████████████████| 5000/5000 [00:15<00:00, 320.67it/s]\n"
     ]
    },
    {
     "name": "stdout",
     "output_type": "stream",
     "text": [
      "5130.jpg\n",
      "2.34961935451492\n",
      "1507.JPG\n"
     ]
    },
    {
     "name": "stderr",
     "output_type": "stream",
     "text": [
      "100%|█████████████████████████████████████████████████████████████████████████████| 5000/5000 [00:16<00:00, 304.36it/s]\n"
     ]
    },
    {
     "name": "stdout",
     "output_type": "stream",
     "text": [
      "5130.jpg\n",
      "2.4249444438080547\n",
      "1508.JPG\n"
     ]
    },
    {
     "name": "stderr",
     "output_type": "stream",
     "text": [
      "100%|█████████████████████████████████████████████████████████████████████████████| 5000/5000 [00:17<00:00, 290.57it/s]\n"
     ]
    },
    {
     "name": "stdout",
     "output_type": "stream",
     "text": [
      "3639.jpg\n",
      "3.6308401231670886\n",
      "1509.JPG\n"
     ]
    },
    {
     "name": "stderr",
     "output_type": "stream",
     "text": [
      "100%|█████████████████████████████████████████████████████████████████████████████| 5000/5000 [00:21<00:00, 229.35it/s]\n"
     ]
    },
    {
     "name": "stdout",
     "output_type": "stream",
     "text": [
      "5130.jpg\n",
      "3.0080503098629627\n",
      "1510.JPG\n"
     ]
    },
    {
     "name": "stderr",
     "output_type": "stream",
     "text": [
      "100%|█████████████████████████████████████████████████████████████████████████████| 5000/5000 [00:16<00:00, 312.33it/s]\n"
     ]
    },
    {
     "name": "stdout",
     "output_type": "stream",
     "text": [
      "5130.jpg\n",
      "3.59445715264798\n",
      "1511.JPG\n"
     ]
    },
    {
     "name": "stderr",
     "output_type": "stream",
     "text": [
      "100%|█████████████████████████████████████████████████████████████████████████████| 5000/5000 [00:16<00:00, 302.47it/s]\n"
     ]
    },
    {
     "name": "stdout",
     "output_type": "stream",
     "text": [
      "5130.jpg\n",
      "2.394171162543638\n",
      "1512.JPG\n"
     ]
    },
    {
     "name": "stderr",
     "output_type": "stream",
     "text": [
      "100%|█████████████████████████████████████████████████████████████████████████████| 5000/5000 [00:16<00:00, 302.78it/s]\n"
     ]
    },
    {
     "name": "stdout",
     "output_type": "stream",
     "text": [
      "5129.jpg\n",
      "1.2462031223770154\n",
      "1513.JPG\n"
     ]
    },
    {
     "name": "stderr",
     "output_type": "stream",
     "text": [
      "100%|█████████████████████████████████████████████████████████████████████████████| 5000/5000 [00:18<00:00, 277.68it/s]\n"
     ]
    },
    {
     "name": "stdout",
     "output_type": "stream",
     "text": [
      "5130.jpg\n",
      "1.5412548999651767\n",
      "1514.JPG\n"
     ]
    },
    {
     "name": "stderr",
     "output_type": "stream",
     "text": [
      "100%|█████████████████████████████████████████████████████████████████████████████| 5000/5000 [00:16<00:00, 301.20it/s]\n"
     ]
    },
    {
     "name": "stdout",
     "output_type": "stream",
     "text": [
      "5131.jpg\n",
      "0.2932007276025533\n",
      "1515.JPG\n"
     ]
    },
    {
     "name": "stderr",
     "output_type": "stream",
     "text": [
      "100%|█████████████████████████████████████████████████████████████████████████████| 5000/5000 [00:16<00:00, 297.01it/s]\n"
     ]
    },
    {
     "name": "stdout",
     "output_type": "stream",
     "text": [
      "5130.jpg\n",
      "2.042699738635667\n",
      "1516.JPG\n"
     ]
    },
    {
     "name": "stderr",
     "output_type": "stream",
     "text": [
      "100%|█████████████████████████████████████████████████████████████████████████████| 5000/5000 [00:17<00:00, 291.12it/s]\n"
     ]
    },
    {
     "name": "stdout",
     "output_type": "stream",
     "text": [
      "5130.jpg\n",
      "2.553637927872052\n",
      "1517.JPG\n"
     ]
    },
    {
     "name": "stderr",
     "output_type": "stream",
     "text": [
      "100%|█████████████████████████████████████████████████████████████████████████████| 5000/5000 [00:16<00:00, 312.26it/s]\n"
     ]
    },
    {
     "name": "stdout",
     "output_type": "stream",
     "text": [
      "5130.jpg\n",
      "1.8785928540029933\n",
      "1521.JPG\n"
     ]
    },
    {
     "name": "stderr",
     "output_type": "stream",
     "text": [
      "100%|█████████████████████████████████████████████████████████████████████████████| 5000/5000 [00:16<00:00, 298.57it/s]\n"
     ]
    },
    {
     "name": "stdout",
     "output_type": "stream",
     "text": [
      "5130.jpg\n",
      "3.001830922768451\n",
      "1522.JPG\n"
     ]
    },
    {
     "name": "stderr",
     "output_type": "stream",
     "text": [
      "100%|█████████████████████████████████████████████████████████████████████████████| 5000/5000 [00:17<00:00, 291.05it/s]\n"
     ]
    },
    {
     "name": "stdout",
     "output_type": "stream",
     "text": [
      "5130.jpg\n",
      "2.88720741663405\n",
      "1523.JPG\n"
     ]
    },
    {
     "name": "stderr",
     "output_type": "stream",
     "text": [
      "100%|█████████████████████████████████████████████████████████████████████████████| 5000/5000 [00:17<00:00, 289.73it/s]\n"
     ]
    },
    {
     "name": "stdout",
     "output_type": "stream",
     "text": [
      "5130.jpg\n",
      "2.035782677770668\n",
      "1524.JPG\n"
     ]
    },
    {
     "name": "stderr",
     "output_type": "stream",
     "text": [
      "100%|█████████████████████████████████████████████████████████████████████████████| 5000/5000 [00:15<00:00, 314.66it/s]\n"
     ]
    },
    {
     "name": "stdout",
     "output_type": "stream",
     "text": [
      "5131.jpg\n",
      "1.4432409516239637\n",
      "1525.JPG\n"
     ]
    },
    {
     "name": "stderr",
     "output_type": "stream",
     "text": [
      " 35%|██████████████████████████▋                                                  | 1734/5000 [00:06<00:12, 264.45it/s]"
     ]
    }
   ],
   "source": [
    "for resized_img in os.listdir(RESIZED_DIR)[10:]:\n",
    "    lowest_value = 10\n",
    "    orig_file_name = ''\n",
    "    print(resized_img)\n",
    "    img1 = cv2.imread(os.path.join(RESIZED_DIR, resized_img))\n",
    "    img1 = cv2.cvtColor(img1, cv2.COLOR_BGR2GRAY)\n",
    "    for ori_img in tqdm(os.listdir(ORI_DIR)):\n",
    "        if ori_img.endswith('jpg'):\n",
    "            img2 = cv2.imread(os.path.join(ORI_DIR, ori_img))\n",
    "            img2 = cv2.cvtColor(img2, cv2.COLOR_BGR2GRAY)\n",
    "            mse = error(img1, img2)\n",
    "            if mse < lowest_value:\n",
    "                    lowest_value = mse\n",
    "                    orig_file_name = ori_img\n",
    "    print(orig_file_name)\n",
    "    print(lowest_value)\n",
    "    "
   ]
  },
  {
   "cell_type": "code",
   "execution_count": null,
   "id": "4369a467",
   "metadata": {},
   "outputs": [],
   "source": []
  },
  {
   "cell_type": "code",
   "execution_count": null,
   "id": "3543f6fd",
   "metadata": {},
   "outputs": [],
   "source": []
  },
  {
   "cell_type": "code",
   "execution_count": null,
   "id": "085d53c7",
   "metadata": {},
   "outputs": [],
   "source": []
  },
  {
   "cell_type": "code",
   "execution_count": null,
   "id": "62add529",
   "metadata": {},
   "outputs": [],
   "source": []
  },
  {
   "cell_type": "markdown",
   "id": "01cda5c7",
   "metadata": {},
   "source": [
    "This is very redundant method and takes eternity to find similary images"
   ]
  },
  {
   "cell_type": "code",
   "execution_count": 2,
   "id": "f9b5f3d0",
   "metadata": {},
   "outputs": [],
   "source": [
    "ORIGINAL_DIR = r\"F:\\Minor Data Collection\\Originally Collected Images\"\n",
    "RESIZED_DIR = r\"F:\\Minor Data Collection\\Final Image Data\\Monument Original\\Original Image Dataset\\JPEGImages\""
   ]
  },
  {
   "cell_type": "code",
   "execution_count": 6,
   "id": "68b0cba0",
   "metadata": {},
   "outputs": [
    {
     "name": "stderr",
     "output_type": "stream",
     "text": [
      "  3%|██▏                                                                         | 433/15323 [02:33<1:27:52,  2.82it/s]\n"
     ]
    },
    {
     "ename": "KeyboardInterrupt",
     "evalue": "",
     "output_type": "error",
     "traceback": [
      "\u001b[1;31m---------------------------------------------------------------------------\u001b[0m",
      "\u001b[1;31mKeyboardInterrupt\u001b[0m                         Traceback (most recent call last)",
      "Input \u001b[1;32mIn [6]\u001b[0m, in \u001b[0;36m<cell line: 1>\u001b[1;34m()\u001b[0m\n\u001b[0;32m      7\u001b[0m \u001b[38;5;28;01mfor\u001b[39;00m original_filename \u001b[38;5;129;01min\u001b[39;00m tqdm(os\u001b[38;5;241m.\u001b[39mlistdir(ORIGINAL_DIR)):\n\u001b[0;32m      8\u001b[0m     \u001b[38;5;28;01mif\u001b[39;00m original_filename\u001b[38;5;241m.\u001b[39mendswith(\u001b[38;5;124m'\u001b[39m\u001b[38;5;124m.jpg\u001b[39m\u001b[38;5;124m'\u001b[39m) \u001b[38;5;129;01mor\u001b[39;00m original_filename\u001b[38;5;241m.\u001b[39mendswith(\u001b[38;5;124m'\u001b[39m\u001b[38;5;124m.png\u001b[39m\u001b[38;5;124m'\u001b[39m):\n\u001b[1;32m----> 9\u001b[0m         original_img \u001b[38;5;241m=\u001b[39m \u001b[43mcv2\u001b[49m\u001b[38;5;241;43m.\u001b[39;49m\u001b[43mimread\u001b[49m\u001b[43m(\u001b[49m\u001b[43mos\u001b[49m\u001b[38;5;241;43m.\u001b[39;49m\u001b[43mpath\u001b[49m\u001b[38;5;241;43m.\u001b[39;49m\u001b[43mjoin\u001b[49m\u001b[43m(\u001b[49m\u001b[43mORIGINAL_DIR\u001b[49m\u001b[43m,\u001b[49m\u001b[43m \u001b[49m\u001b[43moriginal_filename\u001b[49m\u001b[43m)\u001b[49m\u001b[43m)\u001b[49m\n\u001b[0;32m     11\u001b[0m         score \u001b[38;5;241m=\u001b[39m cv2\u001b[38;5;241m.\u001b[39mmatchTemplate(resized_img, original_img, cv2\u001b[38;5;241m.\u001b[39mTM_CCOEFF_NORMED)[\u001b[38;5;241m0\u001b[39m][\u001b[38;5;241m0\u001b[39m]\n\u001b[0;32m     13\u001b[0m         \u001b[38;5;28;01mif\u001b[39;00m score \u001b[38;5;241m>\u001b[39m best_score:\n",
      "\u001b[1;31mKeyboardInterrupt\u001b[0m: "
     ]
    }
   ],
   "source": [
    "for resized_filename in os.listdir(RESIZED_DIR):\n",
    "    if resized_filename.endswith('.jpg') or resized_filename.endswith('.png'):\n",
    "        resized_img = cv2.imread(os.path.join(RESIZED_DIR, resized_filename))\n",
    "        best_match = None\n",
    "        best_score = 0.0\n",
    "        \n",
    "        for original_filename in tqdm(os.listdir(ORIGINAL_DIR)):\n",
    "            if original_filename.endswith('.jpg') or original_filename.endswith('.png'):\n",
    "                original_img = cv2.imread(os.path.join(ORIGINAL_DIR, original_filename))\n",
    "                \n",
    "                score = cv2.matchTemplate(resized_img, original_img, cv2.TM_CCOEFF_NORMED)[0][0]\n",
    "                \n",
    "                if score > best_score:\n",
    "                    best_match = original_filename\n",
    "                    best_score = score\n",
    "        print(f'{resized_filename} matches {best_match} with a score of {best_score:.2f}')"
   ]
  },
  {
   "cell_type": "code",
   "execution_count": null,
   "id": "f85683d4",
   "metadata": {},
   "outputs": [],
   "source": []
  }
 ],
 "metadata": {
  "kernelspec": {
   "display_name": "Python 3 (ipykernel)",
   "language": "python",
   "name": "python3"
  },
  "language_info": {
   "codemirror_mode": {
    "name": "ipython",
    "version": 3
   },
   "file_extension": ".py",
   "mimetype": "text/x-python",
   "name": "python",
   "nbconvert_exporter": "python",
   "pygments_lexer": "ipython3",
   "version": "3.9.12"
  }
 },
 "nbformat": 4,
 "nbformat_minor": 5
}
