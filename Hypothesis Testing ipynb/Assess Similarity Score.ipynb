{
 "cells": [
  {
   "cell_type": "code",
   "execution_count": 2,
   "id": "7f8769c1",
   "metadata": {},
   "outputs": [],
   "source": [
    "import pandas as pd\n",
    "import numpy as np\n",
    "import shutil\n",
    "import os\n",
    "import xml.etree.ElementTree as ET\n",
    "from PIL import Image\n",
    "from tqdm import tqdm\n",
    "import cv2"
   ]
  },
  {
   "cell_type": "code",
   "execution_count": 30,
   "id": "eecaad2e",
   "metadata": {},
   "outputs": [],
   "source": [
    "df = pd.read_csv('KDS_part_2.csv')"
   ]
  },
  {
   "cell_type": "code",
   "execution_count": 31,
   "id": "d29a6527",
   "metadata": {},
   "outputs": [],
   "source": [
    "extracted_df = df[df[\"Similarity Score\"] < -0.9]"
   ]
  },
  {
   "cell_type": "code",
   "execution_count": 32,
   "id": "4c22a434",
   "metadata": {},
   "outputs": [
    {
     "data": {
      "text/html": [
       "<div>\n",
       "<style scoped>\n",
       "    .dataframe tbody tr th:only-of-type {\n",
       "        vertical-align: middle;\n",
       "    }\n",
       "\n",
       "    .dataframe tbody tr th {\n",
       "        vertical-align: top;\n",
       "    }\n",
       "\n",
       "    .dataframe thead th {\n",
       "        text-align: right;\n",
       "    }\n",
       "</style>\n",
       "<table border=\"1\" class=\"dataframe\">\n",
       "  <thead>\n",
       "    <tr style=\"text-align: right;\">\n",
       "      <th></th>\n",
       "      <th>Unnamed: 0</th>\n",
       "      <th>Resized Image Name</th>\n",
       "      <th>Original Image Name</th>\n",
       "      <th>Similarity Score</th>\n",
       "    </tr>\n",
       "  </thead>\n",
       "  <tbody>\n",
       "    <tr>\n",
       "      <th>0</th>\n",
       "      <td>0</td>\n",
       "      <td>2193.jpg</td>\n",
       "      <td>IMG_20221219_152647.jpg</td>\n",
       "      <td>-0.95</td>\n",
       "    </tr>\n",
       "    <tr>\n",
       "      <th>1</th>\n",
       "      <td>1</td>\n",
       "      <td>2081.jpg</td>\n",
       "      <td>IMG_20221219_151246.jpg</td>\n",
       "      <td>-1.00</td>\n",
       "    </tr>\n",
       "    <tr>\n",
       "      <th>2</th>\n",
       "      <td>2</td>\n",
       "      <td>ujj (4).jpg</td>\n",
       "      <td>IMG_20230121_144933.jpg</td>\n",
       "      <td>-1.00</td>\n",
       "    </tr>\n",
       "    <tr>\n",
       "      <th>3</th>\n",
       "      <td>3</td>\n",
       "      <td>5705.JPG</td>\n",
       "      <td>IMG_9822.JPG</td>\n",
       "      <td>-1.00</td>\n",
       "    </tr>\n",
       "    <tr>\n",
       "      <th>4</th>\n",
       "      <td>4</td>\n",
       "      <td>2907.jpg</td>\n",
       "      <td>IMG_20230121_143607.jpg</td>\n",
       "      <td>-1.00</td>\n",
       "    </tr>\n",
       "    <tr>\n",
       "      <th>...</th>\n",
       "      <td>...</td>\n",
       "      <td>...</td>\n",
       "      <td>...</td>\n",
       "      <td>...</td>\n",
       "    </tr>\n",
       "    <tr>\n",
       "      <th>2402</th>\n",
       "      <td>2402</td>\n",
       "      <td>ris (915).jpg</td>\n",
       "      <td>IMG20230121170625.jpg</td>\n",
       "      <td>-1.00</td>\n",
       "    </tr>\n",
       "    <tr>\n",
       "      <th>2403</th>\n",
       "      <td>2403</td>\n",
       "      <td>ris (825).jpg</td>\n",
       "      <td>IMG20230121142254.jpg</td>\n",
       "      <td>-0.98</td>\n",
       "    </tr>\n",
       "    <tr>\n",
       "      <th>2404</th>\n",
       "      <td>2404</td>\n",
       "      <td>5894.jpg</td>\n",
       "      <td>swet_bhairab (31).jpg</td>\n",
       "      <td>-0.92</td>\n",
       "    </tr>\n",
       "    <tr>\n",
       "      <th>2405</th>\n",
       "      <td>2405</td>\n",
       "      <td>ris (572).jpg</td>\n",
       "      <td>IMG20221219151500.jpg</td>\n",
       "      <td>-1.00</td>\n",
       "    </tr>\n",
       "    <tr>\n",
       "      <th>2407</th>\n",
       "      <td>2407</td>\n",
       "      <td>ris (838).jpg</td>\n",
       "      <td>IMG20230121142546.jpg</td>\n",
       "      <td>-1.00</td>\n",
       "    </tr>\n",
       "  </tbody>\n",
       "</table>\n",
       "<p>2254 rows × 4 columns</p>\n",
       "</div>"
      ],
      "text/plain": [
       "      Unnamed: 0 Resized Image Name      Original Image Name  Similarity Score\n",
       "0              0           2193.jpg  IMG_20221219_152647.jpg             -0.95\n",
       "1              1           2081.jpg  IMG_20221219_151246.jpg             -1.00\n",
       "2              2        ujj (4).jpg  IMG_20230121_144933.jpg             -1.00\n",
       "3              3           5705.JPG             IMG_9822.JPG             -1.00\n",
       "4              4           2907.jpg  IMG_20230121_143607.jpg             -1.00\n",
       "...          ...                ...                      ...               ...\n",
       "2402        2402      ris (915).jpg    IMG20230121170625.jpg             -1.00\n",
       "2403        2403      ris (825).jpg    IMG20230121142254.jpg             -0.98\n",
       "2404        2404           5894.jpg    swet_bhairab (31).jpg             -0.92\n",
       "2405        2405      ris (572).jpg    IMG20221219151500.jpg             -1.00\n",
       "2407        2407      ris (838).jpg    IMG20230121142546.jpg             -1.00\n",
       "\n",
       "[2254 rows x 4 columns]"
      ]
     },
     "execution_count": 32,
     "metadata": {},
     "output_type": "execute_result"
    }
   ],
   "source": [
    "extracted_df"
   ]
  },
  {
   "cell_type": "code",
   "execution_count": null,
   "id": "0d7f4f12",
   "metadata": {},
   "outputs": [],
   "source": []
  },
  {
   "cell_type": "code",
   "execution_count": 33,
   "id": "0f2f4a33",
   "metadata": {},
   "outputs": [],
   "source": [
    "ORI_IMAGE_DIR = r\"F:\\Minor Data Collection\\All Images\\KDS\"\n",
    "FOUND_DIR = r\"F:\\Minor Data Collection\\All Images\\ORI_KDS Division\\Found KDS Images\""
   ]
  },
  {
   "cell_type": "code",
   "execution_count": 34,
   "id": "ebf9a6f5",
   "metadata": {},
   "outputs": [
    {
     "name": "stderr",
     "output_type": "stream",
     "text": [
      "2254it [02:29, 15.05it/s]\n"
     ]
    }
   ],
   "source": [
    "for row in tqdm(extracted_df.iterrows()):\n",
    "    resize_file_name = row[1]['Resized Image Name']\n",
    "    ori_file_name = row[1]['Original Image Name']\n",
    "    src_path = os.path.join(ORI_IMAGE_DIR, ori_file_name)\n",
    "    dst_path = os.path.join(FOUND_DIR, resize_file_name)\n",
    "    shutil.copy(src_path, dst_path)"
   ]
  },
  {
   "cell_type": "markdown",
   "id": "81cf83b2",
   "metadata": {},
   "source": [
    "### Copy Annotations files from original annotation files"
   ]
  },
  {
   "cell_type": "code",
   "execution_count": 35,
   "id": "d718405b",
   "metadata": {},
   "outputs": [],
   "source": [
    "ANNO_ORI_DIR = r\"F:\\Minor Data Collection\\Final Image Data\\Monument Original\\Original Image Dataset\\Annotations\"\n",
    "COPY_ANNO_DIR = r\"F:\\Minor Data Collection\\All Images\\ORI_KDS Division\\Found KDS Annotations\""
   ]
  },
  {
   "cell_type": "code",
   "execution_count": 36,
   "id": "c3ff4fae",
   "metadata": {},
   "outputs": [
    {
     "name": "stderr",
     "output_type": "stream",
     "text": [
      "100%|█████████████████████████████████████████████████████████████████████████████| 4732/4732 [00:29<00:00, 159.78it/s]\n"
     ]
    }
   ],
   "source": [
    "for file_name in tqdm(os.listdir(FOUND_DIR)):\n",
    "    img_file_name = file_name.split('.')[0]\n",
    "    anno_file_name = img_file_name + '.xml'\n",
    "    src_path = os.path.join(ANNO_ORI_DIR, anno_file_name)\n",
    "    dst_path = os.path.join(COPY_ANNO_DIR, anno_file_name)\n",
    "    shutil.copy(src_path, dst_path)"
   ]
  },
  {
   "cell_type": "markdown",
   "id": "717d5f8e",
   "metadata": {},
   "source": [
    "### Main: Change Annotations XML file according to the image size"
   ]
  },
  {
   "cell_type": "code",
   "execution_count": 37,
   "id": "b67a3fdb",
   "metadata": {},
   "outputs": [],
   "source": [
    "IMG_DIR = r\"F:\\Minor Data Collection\\All Images\\KDS Found Images and Annotations\\JPEGImages\"\n",
    "ANNO_DIR = r\"F:\\Minor Data Collection\\All Images\\KDS Found Images and Annotations\\Annotations\""
   ]
  },
  {
   "cell_type": "code",
   "execution_count": 38,
   "id": "dd520db6",
   "metadata": {},
   "outputs": [
    {
     "name": "stderr",
     "output_type": "stream",
     "text": [
      "100%|██████████████████████████████████████████████████████████████████████████████| 4732/4732 [14:06<00:00,  5.59it/s]\n"
     ]
    }
   ],
   "source": [
    "for image in tqdm(os.listdir(IMG_DIR)):\n",
    "    img = cv2.imread(os.path.join(IMG_DIR, image))\n",
    "    height, width, _ = img.shape\n",
    "    \n",
    "    anno_path = os.path.join(ANNO_DIR, image.split('.')[0] + '.xml')\n",
    "    xml_file = ET.parse(anno_path)\n",
    "    root = xml_file.getroot()\n",
    "    root.find('size').find('width').text = str(width)\n",
    "    root.find('size').find('height').text = str(height)\n",
    "    all_objects = root.findall('object')\n",
    "    \n",
    "    for member in all_objects:\n",
    "        xmin= int(member[4][0].text)\n",
    "        ymin= int(member[4][1].text)\n",
    "        xmax= int(member[4][2].text)\n",
    "        ymax= int(member[4][3].text)\n",
    "        \n",
    "        member[4][0].text = str(int((float(xmin) / 300.0) * width))\n",
    "        member[4][1].text = str(int((float(ymin) / 300.0) * height))\n",
    "        member[4][2].text = str(int((float(xmax) / 300.0) * width))\n",
    "        member[4][3].text = str(int((float(ymax) / 300.0) * height))\n",
    "    \n",
    "    anno_out_path = os.path.join(ANNO_DIR, image.split('.')[0] + '.xml')\n",
    "    xml_file.write(anno_out_path)"
   ]
  },
  {
   "cell_type": "code",
   "execution_count": null,
   "id": "8d1e8fb7",
   "metadata": {},
   "outputs": [],
   "source": []
  },
  {
   "cell_type": "markdown",
   "id": "251cba3b",
   "metadata": {},
   "source": [
    "## "
   ]
  },
  {
   "cell_type": "code",
   "execution_count": 29,
   "id": "f9e901de",
   "metadata": {},
   "outputs": [],
   "source": [
    "extracted_df = df[df[\"Similarity Score\"] > -0.9]"
   ]
  },
  {
   "cell_type": "code",
   "execution_count": 30,
   "id": "ec2ea7b0",
   "metadata": {},
   "outputs": [],
   "source": [
    "BASE_BDS_DIR = r\"F:\\Minor Data Collection\\Resized Original Image\\BDS\"\n",
    "OUTPUT_DIR = r\"F:\\Minor Data Collection\\Resized Original Image\\Unfound Files\""
   ]
  },
  {
   "cell_type": "code",
   "execution_count": null,
   "id": "298ee15f",
   "metadata": {},
   "outputs": [],
   "source": []
  },
  {
   "cell_type": "code",
   "execution_count": null,
   "id": "26277fb9",
   "metadata": {},
   "outputs": [],
   "source": []
  },
  {
   "cell_type": "code",
   "execution_count": null,
   "id": "78724798",
   "metadata": {},
   "outputs": [],
   "source": []
  },
  {
   "cell_type": "code",
   "execution_count": null,
   "id": "d04ace59",
   "metadata": {},
   "outputs": [],
   "source": []
  },
  {
   "cell_type": "code",
   "execution_count": 26,
   "id": "637f0c60",
   "metadata": {},
   "outputs": [],
   "source": [
    "for row in extracted_df.iterrows():\n",
    "    file_name = row[1]['Resized Image Name']\n",
    "    src_path = os.path.join(BASE_BDS_DIR, file_name)\n",
    "    dst_path = os.path.join(OUTPUT_DIR, file_name)\n",
    "    shutil.copy(src_path, dst_path)"
   ]
  },
  {
   "cell_type": "code",
   "execution_count": 6,
   "id": "3ef61a5f",
   "metadata": {},
   "outputs": [],
   "source": []
  },
  {
   "cell_type": "code",
   "execution_count": 11,
   "id": "fa87e222",
   "metadata": {},
   "outputs": [],
   "source": [
    "import pandas as pd\n",
    "part_1 = pd.read_csv('./KDS_part_1.csv')\n",
    "part_2 = pd.read_csv('./KDS_part_2.csv')"
   ]
  },
  {
   "cell_type": "code",
   "execution_count": 10,
   "id": "e43503cb",
   "metadata": {},
   "outputs": [
    {
     "data": {
      "text/html": [
       "<div>\n",
       "<style scoped>\n",
       "    .dataframe tbody tr th:only-of-type {\n",
       "        vertical-align: middle;\n",
       "    }\n",
       "\n",
       "    .dataframe tbody tr th {\n",
       "        vertical-align: top;\n",
       "    }\n",
       "\n",
       "    .dataframe thead th {\n",
       "        text-align: right;\n",
       "    }\n",
       "</style>\n",
       "<table border=\"1\" class=\"dataframe\">\n",
       "  <thead>\n",
       "    <tr style=\"text-align: right;\">\n",
       "      <th></th>\n",
       "      <th>Unnamed: 0</th>\n",
       "      <th>Resized Image Name</th>\n",
       "      <th>Original Image Name</th>\n",
       "      <th>Similarity Score</th>\n",
       "    </tr>\n",
       "  </thead>\n",
       "  <tbody>\n",
       "    <tr>\n",
       "      <th>0</th>\n",
       "      <td>0</td>\n",
       "      <td>ris (778).jpg</td>\n",
       "      <td>IMG20230121134120.jpg</td>\n",
       "      <td>-0.98</td>\n",
       "    </tr>\n",
       "    <tr>\n",
       "      <th>1</th>\n",
       "      <td>1</td>\n",
       "      <td>2008.jpg</td>\n",
       "      <td>IMG_20221219_150553.jpg</td>\n",
       "      <td>-0.95</td>\n",
       "    </tr>\n",
       "    <tr>\n",
       "      <th>2</th>\n",
       "      <td>2</td>\n",
       "      <td>5307.JPG</td>\n",
       "      <td>IMG_9390.JPG</td>\n",
       "      <td>-1.00</td>\n",
       "    </tr>\n",
       "    <tr>\n",
       "      <th>3</th>\n",
       "      <td>3</td>\n",
       "      <td>5039.JPG</td>\n",
       "      <td>IMG_9115.JPG</td>\n",
       "      <td>-0.99</td>\n",
       "    </tr>\n",
       "    <tr>\n",
       "      <th>4</th>\n",
       "      <td>4</td>\n",
       "      <td>1700.jpg</td>\n",
       "      <td>IMG_20221219_142931.jpg</td>\n",
       "      <td>-0.98</td>\n",
       "    </tr>\n",
       "    <tr>\n",
       "      <th>...</th>\n",
       "      <td>...</td>\n",
       "      <td>...</td>\n",
       "      <td>...</td>\n",
       "      <td>...</td>\n",
       "    </tr>\n",
       "    <tr>\n",
       "      <th>2609</th>\n",
       "      <td>2609</td>\n",
       "      <td>5005.JPG</td>\n",
       "      <td>IMG_8786.JPG</td>\n",
       "      <td>-0.98</td>\n",
       "    </tr>\n",
       "    <tr>\n",
       "      <th>2611</th>\n",
       "      <td>2611</td>\n",
       "      <td>5088.JPG</td>\n",
       "      <td>IMG_9164.JPG</td>\n",
       "      <td>-0.98</td>\n",
       "    </tr>\n",
       "    <tr>\n",
       "      <th>2613</th>\n",
       "      <td>2613</td>\n",
       "      <td>4463.JPG</td>\n",
       "      <td>IMG_8028.JPG</td>\n",
       "      <td>-1.00</td>\n",
       "    </tr>\n",
       "    <tr>\n",
       "      <th>2614</th>\n",
       "      <td>2614</td>\n",
       "      <td>5303.JPG</td>\n",
       "      <td>IMG_9386.JPG</td>\n",
       "      <td>-1.00</td>\n",
       "    </tr>\n",
       "    <tr>\n",
       "      <th>2617</th>\n",
       "      <td>2617</td>\n",
       "      <td>2599.jpg</td>\n",
       "      <td>IMG_20230121_130629.jpg</td>\n",
       "      <td>-0.97</td>\n",
       "    </tr>\n",
       "  </tbody>\n",
       "</table>\n",
       "<p>2478 rows × 4 columns</p>\n",
       "</div>"
      ],
      "text/plain": [
       "      Unnamed: 0 Resized Image Name      Original Image Name  Similarity Score\n",
       "0              0      ris (778).jpg    IMG20230121134120.jpg             -0.98\n",
       "1              1           2008.jpg  IMG_20221219_150553.jpg             -0.95\n",
       "2              2           5307.JPG             IMG_9390.JPG             -1.00\n",
       "3              3           5039.JPG             IMG_9115.JPG             -0.99\n",
       "4              4           1700.jpg  IMG_20221219_142931.jpg             -0.98\n",
       "...          ...                ...                      ...               ...\n",
       "2609        2609           5005.JPG             IMG_8786.JPG             -0.98\n",
       "2611        2611           5088.JPG             IMG_9164.JPG             -0.98\n",
       "2613        2613           4463.JPG             IMG_8028.JPG             -1.00\n",
       "2614        2614           5303.JPG             IMG_9386.JPG             -1.00\n",
       "2617        2617           2599.jpg  IMG_20230121_130629.jpg             -0.97\n",
       "\n",
       "[2478 rows x 4 columns]"
      ]
     },
     "execution_count": 10,
     "metadata": {},
     "output_type": "execute_result"
    }
   ],
   "source": [
    "part_1[part_1[\"Similarity Score\"] < -0.9]"
   ]
  },
  {
   "cell_type": "code",
   "execution_count": 12,
   "id": "39d8cb8c",
   "metadata": {},
   "outputs": [
    {
     "data": {
      "text/html": [
       "<div>\n",
       "<style scoped>\n",
       "    .dataframe tbody tr th:only-of-type {\n",
       "        vertical-align: middle;\n",
       "    }\n",
       "\n",
       "    .dataframe tbody tr th {\n",
       "        vertical-align: top;\n",
       "    }\n",
       "\n",
       "    .dataframe thead th {\n",
       "        text-align: right;\n",
       "    }\n",
       "</style>\n",
       "<table border=\"1\" class=\"dataframe\">\n",
       "  <thead>\n",
       "    <tr style=\"text-align: right;\">\n",
       "      <th></th>\n",
       "      <th>Unnamed: 0</th>\n",
       "      <th>Resized Image Name</th>\n",
       "      <th>Original Image Name</th>\n",
       "      <th>Similarity Score</th>\n",
       "    </tr>\n",
       "  </thead>\n",
       "  <tbody>\n",
       "    <tr>\n",
       "      <th>0</th>\n",
       "      <td>0</td>\n",
       "      <td>2193.jpg</td>\n",
       "      <td>IMG_20221219_152647.jpg</td>\n",
       "      <td>-0.95</td>\n",
       "    </tr>\n",
       "    <tr>\n",
       "      <th>1</th>\n",
       "      <td>1</td>\n",
       "      <td>2081.jpg</td>\n",
       "      <td>IMG_20221219_151246.jpg</td>\n",
       "      <td>-1.00</td>\n",
       "    </tr>\n",
       "    <tr>\n",
       "      <th>2</th>\n",
       "      <td>2</td>\n",
       "      <td>ujj (4).jpg</td>\n",
       "      <td>IMG_20230121_144933.jpg</td>\n",
       "      <td>-1.00</td>\n",
       "    </tr>\n",
       "    <tr>\n",
       "      <th>3</th>\n",
       "      <td>3</td>\n",
       "      <td>5705.JPG</td>\n",
       "      <td>IMG_9822.JPG</td>\n",
       "      <td>-1.00</td>\n",
       "    </tr>\n",
       "    <tr>\n",
       "      <th>4</th>\n",
       "      <td>4</td>\n",
       "      <td>2907.jpg</td>\n",
       "      <td>IMG_20230121_143607.jpg</td>\n",
       "      <td>-1.00</td>\n",
       "    </tr>\n",
       "    <tr>\n",
       "      <th>...</th>\n",
       "      <td>...</td>\n",
       "      <td>...</td>\n",
       "      <td>...</td>\n",
       "      <td>...</td>\n",
       "    </tr>\n",
       "    <tr>\n",
       "      <th>2402</th>\n",
       "      <td>2402</td>\n",
       "      <td>ris (915).jpg</td>\n",
       "      <td>IMG20230121170625.jpg</td>\n",
       "      <td>-1.00</td>\n",
       "    </tr>\n",
       "    <tr>\n",
       "      <th>2403</th>\n",
       "      <td>2403</td>\n",
       "      <td>ris (825).jpg</td>\n",
       "      <td>IMG20230121142254.jpg</td>\n",
       "      <td>-0.98</td>\n",
       "    </tr>\n",
       "    <tr>\n",
       "      <th>2404</th>\n",
       "      <td>2404</td>\n",
       "      <td>5894.jpg</td>\n",
       "      <td>swet_bhairab (31).jpg</td>\n",
       "      <td>-0.92</td>\n",
       "    </tr>\n",
       "    <tr>\n",
       "      <th>2405</th>\n",
       "      <td>2405</td>\n",
       "      <td>ris (572).jpg</td>\n",
       "      <td>IMG20221219151500.jpg</td>\n",
       "      <td>-1.00</td>\n",
       "    </tr>\n",
       "    <tr>\n",
       "      <th>2407</th>\n",
       "      <td>2407</td>\n",
       "      <td>ris (838).jpg</td>\n",
       "      <td>IMG20230121142546.jpg</td>\n",
       "      <td>-1.00</td>\n",
       "    </tr>\n",
       "  </tbody>\n",
       "</table>\n",
       "<p>2254 rows × 4 columns</p>\n",
       "</div>"
      ],
      "text/plain": [
       "      Unnamed: 0 Resized Image Name      Original Image Name  Similarity Score\n",
       "0              0           2193.jpg  IMG_20221219_152647.jpg             -0.95\n",
       "1              1           2081.jpg  IMG_20221219_151246.jpg             -1.00\n",
       "2              2        ujj (4).jpg  IMG_20230121_144933.jpg             -1.00\n",
       "3              3           5705.JPG             IMG_9822.JPG             -1.00\n",
       "4              4           2907.jpg  IMG_20230121_143607.jpg             -1.00\n",
       "...          ...                ...                      ...               ...\n",
       "2402        2402      ris (915).jpg    IMG20230121170625.jpg             -1.00\n",
       "2403        2403      ris (825).jpg    IMG20230121142254.jpg             -0.98\n",
       "2404        2404           5894.jpg    swet_bhairab (31).jpg             -0.92\n",
       "2405        2405      ris (572).jpg    IMG20221219151500.jpg             -1.00\n",
       "2407        2407      ris (838).jpg    IMG20230121142546.jpg             -1.00\n",
       "\n",
       "[2254 rows x 4 columns]"
      ]
     },
     "execution_count": 12,
     "metadata": {},
     "output_type": "execute_result"
    }
   ],
   "source": [
    "part_2[part_2[\"Similarity Score\"] < -0.9]"
   ]
  },
  {
   "cell_type": "code",
   "execution_count": null,
   "id": "adfae70f",
   "metadata": {},
   "outputs": [],
   "source": []
  }
 ],
 "metadata": {
  "kernelspec": {
   "display_name": "Python 3 (ipykernel)",
   "language": "python",
   "name": "python3"
  },
  "language_info": {
   "codemirror_mode": {
    "name": "ipython",
    "version": 3
   },
   "file_extension": ".py",
   "mimetype": "text/x-python",
   "name": "python",
   "nbconvert_exporter": "python",
   "pygments_lexer": "ipython3",
   "version": "3.9.12"
  }
 },
 "nbformat": 4,
 "nbformat_minor": 5
}
