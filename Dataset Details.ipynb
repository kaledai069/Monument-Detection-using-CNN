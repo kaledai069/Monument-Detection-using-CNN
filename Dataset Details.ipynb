{
 "cells": [
  {
   "cell_type": "code",
   "execution_count": 10,
   "id": "12a5db2c",
   "metadata": {},
   "outputs": [],
   "source": [
    "import os\n",
    "import numpy as np\n",
    "import xml.etree.ElementTree as ET\n",
    "import matplotlib.pyplot as plt\n",
    "import pandas as pd\n",
    "import glob\n",
    "import io\n",
    "from PIL import Image\n",
    "import tensorflow as tf\n",
    "from tqdm import tqdm"
   ]
  },
  {
   "cell_type": "code",
   "execution_count": 2,
   "id": "6f7445ec",
   "metadata": {},
   "outputs": [],
   "source": [
    "LABEL_PATH = r\"C:\\Users\\parzi\\OneDrive - Tribhuvan University\\Desktop\\Minor Project\\Monument Detection with CNN\\Monument Object Detection\\helper\\Report\\final.csv\"\n",
    "ignore_list = ['kotilingeshvara', 'til mahadev narayan temple', 'king statue']\n",
    "mistake_list = ['degutale temple', 'kritipur tower']\n",
    "correct_list = ['degu tale temple_KDS', 'kirtipur tower', 'degu tale']"
   ]
  },
  {
   "cell_type": "code",
   "execution_count": 7,
   "id": "cd792b2e",
   "metadata": {},
   "outputs": [],
   "source": [
    "POSSIBLE_LABELS = dict()\n",
    "def csv_to_label_map_dict(path):\n",
    "    df = pd.read_csv(path)\n",
    "    class_list = list(df['class'])\n",
    "    final_class_list = list()\n",
    "    for class_name in class_list:\n",
    "        if class_name not in ignore_list and class_name not in correct_list:\n",
    "            if class_name in mistake_list:\n",
    "                if class_name == 'degutale temple' or class_name == 'degu tale':\n",
    "                    class_name = correct_list[0]\n",
    "                elif class_name == 'kritipur tower':\n",
    "                    class_name = correct_list[1]\n",
    "            final_class_list.append(class_name)\n",
    "    class_index = 1\n",
    "    res_dict = {}\n",
    "    for class_label in final_class_list:\n",
    "        res_dict[class_label] = class_index\n",
    "        class_index += 1\n",
    "    return res_dict\n",
    "\n",
    "POSSIBLE_LABELS = csv_to_label_map_dict(LABEL_PATH)\n",
    "POSSIBLE_LABELS['bg'] = 0"
   ]
  },
  {
   "cell_type": "code",
   "execution_count": 4,
   "id": "ed0cc6ec",
   "metadata": {},
   "outputs": [],
   "source": [
    "def check_class_validity(class_name):\n",
    "    if class_name == 'degutale temple' or class_name == 'degu tale':\n",
    "        return 'degu tale temple_KDS'\n",
    "    elif class_name == 'kritipur tower':\n",
    "        return 'kirtipur tower'\n",
    "    elif class_name not in list(POSSIBLE_LABELS.keys()):\n",
    "        return None\n",
    "    else:\n",
    "        return class_name"
   ]
  },
  {
   "cell_type": "code",
   "execution_count": 11,
   "id": "20214d04",
   "metadata": {},
   "outputs": [],
   "source": [
    "class_list = []\n",
    "def xml_to_csv(path):\n",
    "    xml_list = []\n",
    "    for xml_file in tqdm(glob.glob(path + '/*.xml')):\n",
    "        tree = ET.parse(xml_file)\n",
    "        root = tree.getroot()\n",
    "        all_objects = root.findall('object')\n",
    "        changed_filename = xml_file.split('\\\\')[-1].split('.')[0] + '.JPG'\n",
    "        # Handling xml parser for random background images\n",
    "        if len(all_objects) != 0:\n",
    "            for member in all_objects:\n",
    "                class_label = check_class_validity(member[0].text)\n",
    "                if class_label is not None:\n",
    "                    value = (changed_filename,\n",
    "                             int(root.find('size')[0].text),\n",
    "                             int(root.find('size')[1].text),\n",
    "                             class_label,\n",
    "                             int(member[4][0].text),\n",
    "                             int(member[4][1].text),\n",
    "                             int(member[4][2].text),\n",
    "                             int(member[4][3].text)\n",
    "                             )\n",
    "                    if class_label not in class_list:\n",
    "                        class_list.append(class_label)\n",
    "                    xml_list.append(value)\n",
    "        else:\n",
    "            # Setting background class to 'bg', and four bbox coordinates all to neg 1.\n",
    "            value = (changed_filename,\n",
    "                     int(root.find('size')[0].text),\n",
    "                     int(root.find('size')[1].text),\n",
    "                     'bg',\n",
    "                      -1,\n",
    "                      -1,\n",
    "                      -1,\n",
    "                      -1)\n",
    "            xml_list.append(value)\n",
    "    column_name = ['filename', 'width', 'height',\n",
    "                   'class', 'xmin', 'ymin', 'xmax', 'ymax']\n",
    "    xml_df = pd.DataFrame(xml_list, columns=column_name)\n",
    "    return xml_df"
   ]
  },
  {
   "cell_type": "code",
   "execution_count": 26,
   "id": "bdebabd4",
   "metadata": {},
   "outputs": [
    {
     "name": "stderr",
     "output_type": "stream",
     "text": [
      "100%|██████████████████████████████████████████████████████████████████████████| 19609/19609 [00:03<00:00, 6432.66it/s]\n"
     ]
    }
   ],
   "source": [
    "df = xml_to_csv(r\"F:\\Minor Data Collection\\Final Image Data\\Monument Original 512\\Augmented 512 v2 (PDS included)\\All Splitted\\train\\Annotations\")"
   ]
  },
  {
   "cell_type": "code",
   "execution_count": 27,
   "id": "ef7f1e26",
   "metadata": {},
   "outputs": [],
   "source": [
    "new_df = df.groupby(df['class']).count()\n",
    "new_df = new_df[['filename']]"
   ]
  },
  {
   "cell_type": "code",
   "execution_count": 29,
   "id": "bb0574f3",
   "metadata": {},
   "outputs": [],
   "source": [
    "new_df.to_excel('train_augmented_dataset.xlsx')"
   ]
  },
  {
   "cell_type": "code",
   "execution_count": null,
   "id": "7ecaef6d",
   "metadata": {},
   "outputs": [],
   "source": []
  }
 ],
 "metadata": {
  "kernelspec": {
   "display_name": "Python 3 (ipykernel)",
   "language": "python",
   "name": "python3"
  },
  "language_info": {
   "codemirror_mode": {
    "name": "ipython",
    "version": 3
   },
   "file_extension": ".py",
   "mimetype": "text/x-python",
   "name": "python",
   "nbconvert_exporter": "python",
   "pygments_lexer": "ipython3",
   "version": "3.9.12"
  }
 },
 "nbformat": 4,
 "nbformat_minor": 5
}
